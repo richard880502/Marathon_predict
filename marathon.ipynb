{
 "metadata": {
  "language_info": {
   "codemirror_mode": {
    "name": "ipython",
    "version": 3
   },
   "file_extension": ".py",
   "mimetype": "text/x-python",
   "name": "python",
   "nbconvert_exporter": "python",
   "pygments_lexer": "ipython3",
   "version": "3.8.8"
  },
  "orig_nbformat": 4,
  "kernelspec": {
   "name": "python3",
   "display_name": "Python 3.8.8 64-bit ('base': conda)"
  },
  "interpreter": {
   "hash": "15bbdf350ab1f603c96c8c9a40f282908b99005c26365682082028c5e59380aa"
  }
 },
 "nbformat": 4,
 "nbformat_minor": 2,
 "cells": [
  {
   "cell_type": "code",
   "execution_count": 1,
   "metadata": {},
   "outputs": [],
   "source": [
    "import pandas as pd\n",
    "import numpy as np"
   ]
  },
  {
   "source": [
    "讀檔"
   ],
   "cell_type": "markdown",
   "metadata": {}
  },
  {
   "cell_type": "code",
   "execution_count": 2,
   "metadata": {},
   "outputs": [],
   "source": [
    "df = pd.read_csv('train.csv') \n",
    "test = pd.read_csv(\"test.csv\")\n",
    "submit_example = pd.read_csv(\"submit_samples.csv\")"
   ]
  },
  {
   "cell_type": "code",
   "execution_count": 3,
   "metadata": {},
   "outputs": [
    {
     "output_type": "execute_result",
     "data": {
      "text/plain": [
       "                               mac_hash  sniffer_loc         created_time\n",
       "0      0003ae8541d0e925fcee242287e2ad27           11  2018-12-07 16:48:08\n",
       "1      00078611037990f7f36b722f22595fe7            3  2018-12-07 16:29:35\n",
       "2      00078611037990f7f36b722f22595fe7            2  2018-12-07 16:30:41\n",
       "3      00078611037990f7f36b722f22595fe7            4  2018-12-07 16:37:06\n",
       "4      00078611037990f7f36b722f22595fe7            8  2018-12-07 16:37:07\n",
       "...                                 ...          ...                  ...\n",
       "41635  fff2ca0333532d6348d5b4fa39028dd4            3  2018-12-07 18:37:37\n",
       "41636  fff2ca0333532d6348d5b4fa39028dd4           13  2018-12-07 18:47:53\n",
       "41637  fff2ca0333532d6348d5b4fa39028dd4           12  2018-12-07 18:47:53\n",
       "41638  fff2ca0333532d6348d5b4fa39028dd4           11  2018-12-07 18:47:54\n",
       "41639  fff2ca0333532d6348d5b4fa39028dd4            9  2018-12-07 18:47:54\n",
       "\n",
       "[41640 rows x 3 columns]"
      ],
      "text/html": "<div>\n<style scoped>\n    .dataframe tbody tr th:only-of-type {\n        vertical-align: middle;\n    }\n\n    .dataframe tbody tr th {\n        vertical-align: top;\n    }\n\n    .dataframe thead th {\n        text-align: right;\n    }\n</style>\n<table border=\"1\" class=\"dataframe\">\n  <thead>\n    <tr style=\"text-align: right;\">\n      <th></th>\n      <th>mac_hash</th>\n      <th>sniffer_loc</th>\n      <th>created_time</th>\n    </tr>\n  </thead>\n  <tbody>\n    <tr>\n      <th>0</th>\n      <td>0003ae8541d0e925fcee242287e2ad27</td>\n      <td>11</td>\n      <td>2018-12-07 16:48:08</td>\n    </tr>\n    <tr>\n      <th>1</th>\n      <td>00078611037990f7f36b722f22595fe7</td>\n      <td>3</td>\n      <td>2018-12-07 16:29:35</td>\n    </tr>\n    <tr>\n      <th>2</th>\n      <td>00078611037990f7f36b722f22595fe7</td>\n      <td>2</td>\n      <td>2018-12-07 16:30:41</td>\n    </tr>\n    <tr>\n      <th>3</th>\n      <td>00078611037990f7f36b722f22595fe7</td>\n      <td>4</td>\n      <td>2018-12-07 16:37:06</td>\n    </tr>\n    <tr>\n      <th>4</th>\n      <td>00078611037990f7f36b722f22595fe7</td>\n      <td>8</td>\n      <td>2018-12-07 16:37:07</td>\n    </tr>\n    <tr>\n      <th>...</th>\n      <td>...</td>\n      <td>...</td>\n      <td>...</td>\n    </tr>\n    <tr>\n      <th>41635</th>\n      <td>fff2ca0333532d6348d5b4fa39028dd4</td>\n      <td>3</td>\n      <td>2018-12-07 18:37:37</td>\n    </tr>\n    <tr>\n      <th>41636</th>\n      <td>fff2ca0333532d6348d5b4fa39028dd4</td>\n      <td>13</td>\n      <td>2018-12-07 18:47:53</td>\n    </tr>\n    <tr>\n      <th>41637</th>\n      <td>fff2ca0333532d6348d5b4fa39028dd4</td>\n      <td>12</td>\n      <td>2018-12-07 18:47:53</td>\n    </tr>\n    <tr>\n      <th>41638</th>\n      <td>fff2ca0333532d6348d5b4fa39028dd4</td>\n      <td>11</td>\n      <td>2018-12-07 18:47:54</td>\n    </tr>\n    <tr>\n      <th>41639</th>\n      <td>fff2ca0333532d6348d5b4fa39028dd4</td>\n      <td>9</td>\n      <td>2018-12-07 18:47:54</td>\n    </tr>\n  </tbody>\n</table>\n<p>41640 rows × 3 columns</p>\n</div>"
     },
     "metadata": {},
     "execution_count": 3
    }
   ],
   "source": [
    "df"
   ]
  },
  {
   "cell_type": "code",
   "execution_count": 4,
   "metadata": {},
   "outputs": [
    {
     "output_type": "execute_result",
     "data": {
      "text/plain": [
       "                               mac_hash  sniffer_loc         created_time\n",
       "0      00c41469578fb947de736d3a03900772            3  2018-12-06 17:21:18\n",
       "1      0104474d9c1318b4f58a75fb605f39b2           10  2018-12-06 13:45:11\n",
       "2      0104474d9c1318b4f58a75fb605f39b2            9  2018-12-06 13:45:11\n",
       "3      0104474d9c1318b4f58a75fb605f39b2           11  2018-12-06 13:46:15\n",
       "4      0104474d9c1318b4f58a75fb605f39b2            8  2018-12-06 13:46:15\n",
       "...                                 ...          ...                  ...\n",
       "20414  ffe0ad398b4769d715dd73cee58591de           11  2018-12-08 14:55:50\n",
       "20415  ffe0ad398b4769d715dd73cee58591de           12  2018-12-08 14:55:51\n",
       "20416  ffe0ad398b4769d715dd73cee58591de            4  2018-12-08 15:03:17\n",
       "20417  ffe0ad398b4769d715dd73cee58591de            9  2018-12-08 15:14:34\n",
       "20418  ffe0ad398b4769d715dd73cee58591de           14  2018-12-08 15:26:55\n",
       "\n",
       "[20419 rows x 3 columns]"
      ],
      "text/html": "<div>\n<style scoped>\n    .dataframe tbody tr th:only-of-type {\n        vertical-align: middle;\n    }\n\n    .dataframe tbody tr th {\n        vertical-align: top;\n    }\n\n    .dataframe thead th {\n        text-align: right;\n    }\n</style>\n<table border=\"1\" class=\"dataframe\">\n  <thead>\n    <tr style=\"text-align: right;\">\n      <th></th>\n      <th>mac_hash</th>\n      <th>sniffer_loc</th>\n      <th>created_time</th>\n    </tr>\n  </thead>\n  <tbody>\n    <tr>\n      <th>0</th>\n      <td>00c41469578fb947de736d3a03900772</td>\n      <td>3</td>\n      <td>2018-12-06 17:21:18</td>\n    </tr>\n    <tr>\n      <th>1</th>\n      <td>0104474d9c1318b4f58a75fb605f39b2</td>\n      <td>10</td>\n      <td>2018-12-06 13:45:11</td>\n    </tr>\n    <tr>\n      <th>2</th>\n      <td>0104474d9c1318b4f58a75fb605f39b2</td>\n      <td>9</td>\n      <td>2018-12-06 13:45:11</td>\n    </tr>\n    <tr>\n      <th>3</th>\n      <td>0104474d9c1318b4f58a75fb605f39b2</td>\n      <td>11</td>\n      <td>2018-12-06 13:46:15</td>\n    </tr>\n    <tr>\n      <th>4</th>\n      <td>0104474d9c1318b4f58a75fb605f39b2</td>\n      <td>8</td>\n      <td>2018-12-06 13:46:15</td>\n    </tr>\n    <tr>\n      <th>...</th>\n      <td>...</td>\n      <td>...</td>\n      <td>...</td>\n    </tr>\n    <tr>\n      <th>20414</th>\n      <td>ffe0ad398b4769d715dd73cee58591de</td>\n      <td>11</td>\n      <td>2018-12-08 14:55:50</td>\n    </tr>\n    <tr>\n      <th>20415</th>\n      <td>ffe0ad398b4769d715dd73cee58591de</td>\n      <td>12</td>\n      <td>2018-12-08 14:55:51</td>\n    </tr>\n    <tr>\n      <th>20416</th>\n      <td>ffe0ad398b4769d715dd73cee58591de</td>\n      <td>4</td>\n      <td>2018-12-08 15:03:17</td>\n    </tr>\n    <tr>\n      <th>20417</th>\n      <td>ffe0ad398b4769d715dd73cee58591de</td>\n      <td>9</td>\n      <td>2018-12-08 15:14:34</td>\n    </tr>\n    <tr>\n      <th>20418</th>\n      <td>ffe0ad398b4769d715dd73cee58591de</td>\n      <td>14</td>\n      <td>2018-12-08 15:26:55</td>\n    </tr>\n  </tbody>\n</table>\n<p>20419 rows × 3 columns</p>\n</div>"
     },
     "metadata": {},
     "execution_count": 4
    }
   ],
   "source": [
    "test"
   ]
  },
  {
   "source": [
    "同ID整合資料"
   ],
   "cell_type": "markdown",
   "metadata": {}
  },
  {
   "cell_type": "code",
   "execution_count": 5,
   "metadata": {},
   "outputs": [],
   "source": [
    "df['sniffer_loc'] = df['sniffer_loc'].astype(str)\n",
    "df['sniffer_loc'] = df['sniffer_loc'].apply(lambda x:','+ x)\n",
    "data1 = df['sniffer_loc'].groupby(df['mac_hash']).sum()\n",
    "data1= data1.apply(lambda x :[x[1:]])"
   ]
  },
  {
   "cell_type": "code",
   "execution_count": 6,
   "metadata": {},
   "outputs": [],
   "source": [
    "test['sniffer_loc'] = test['sniffer_loc'].astype(str)\n",
    "test['sniffer_loc'] = test['sniffer_loc'].apply(lambda x:','+ x)\n",
    "test1 = test['sniffer_loc'].groupby(test['mac_hash']).sum()\n",
    "test1= test1.apply(lambda x :[x[1:]])"
   ]
  },
  {
   "cell_type": "code",
   "execution_count": 8,
   "metadata": {},
   "outputs": [
    {
     "output_type": "execute_result",
     "data": {
      "text/plain": [
       "mac_hash\n",
       "0003ae8541d0e925fcee242287e2ad27                                  [11]\n",
       "00078611037990f7f36b722f22595fe7                   [3,2,4,8,6,10,11,5]\n",
       "000ce31739b333d931813de403156844    [6,8,13,10,11,3,2,7,5,9,1,4,12,14]\n",
       "0027240b2aeb1f7f3c053c073cafb452        [10,12,13,14,9,7,8,4,2,5,6,11]\n",
       "0028a89964416dc9a8a66cc7fe25ef4e            [10,4,3,2,6,9,12,13,11,14]\n",
       "                                                   ...                \n",
       "ffca215be2cb1505d931bd162da60104                [3,5,2,6,4,12,13,10,8]\n",
       "ffcaf0f29c6bede7b5cd9bc807c31715                           [3,2,4,7,5]\n",
       "ffd0c4403c3c44dcbe4772821b032252      [6,5,4,2,9,11,8,10,12,13,3,7,14]\n",
       "ffd7be58ee3c3fb47530ae7e4f251f88                                   [5]\n",
       "fff2ca0333532d6348d5b4fa39028dd4                     [10,3,13,12,11,9]\n",
       "Name: sniffer_loc, Length: 6959, dtype: object"
      ]
     },
     "metadata": {},
     "execution_count": 8
    }
   ],
   "source": [
    "data1"
   ]
  },
  {
   "cell_type": "code",
   "execution_count": 7,
   "metadata": {},
   "outputs": [],
   "source": [
    "data1 = np.array(data1)"
   ]
  },
  {
   "cell_type": "code",
   "execution_count": 10,
   "metadata": {},
   "outputs": [
    {
     "output_type": "execute_result",
     "data": {
      "text/plain": [
       "mac_hash\n",
       "001befc6b70649b2c31d3bf9842c0142                                [5]\n",
       "006f9b3eb4ef8e6b3bbe418a230b369e                                [9]\n",
       "00701f11a41ddfd6c7878f83547c7f31                               [13]\n",
       "007375f6f7da2e2ebbc9cb46a454a9d7                             [5,14]\n",
       "00764e6e16c398d287b653b0dfd9ea84    [3,2,1,5,4,7,10,9,8,11,13,12,6]\n",
       "                                                 ...               \n",
       "ff560b5ce15f4945d1960013fa457afe                          [7,2,3,4]\n",
       "ff79639315a87844d8f6fe9887ffce6c                 [11,6,9,8,12,13,3]\n",
       "ffb29a79ebd3034876cc20c3d553dda6           [2,3,4,5,6,10,11,12,9,8]\n",
       "ffc4b642af473f02057509a7cbf3d957                          [3,4,2,5]\n",
       "ffe0ad398b4769d715dd73cee58591de        [5,3,6,2,8,10,11,12,4,9,14]\n",
       "Name: sniffer_loc, Length: 3429, dtype: object"
      ]
     },
     "metadata": {},
     "execution_count": 10
    }
   ],
   "source": [
    "test1"
   ]
  },
  {
   "source": [
    "原資料ID順序不對,groupby之後重新紀錄ID並放入PD"
   ],
   "cell_type": "markdown",
   "metadata": {}
  },
  {
   "cell_type": "code",
   "execution_count": 8,
   "metadata": {
    "tags": []
   },
   "outputs": [],
   "source": [
    "test1_index = []\n",
    "for row in test1.index:\n",
    "    test1_index.append(row)"
   ]
  },
  {
   "cell_type": "code",
   "execution_count": 9,
   "metadata": {},
   "outputs": [],
   "source": [
    "test1 = np.array(test1)"
   ]
  },
  {
   "cell_type": "code",
   "execution_count": 15,
   "metadata": {},
   "outputs": [
    {
     "output_type": "execute_result",
     "data": {
      "text/plain": [
       "array([list(['5']), list(['9']), list(['13']), ...,\n",
       "       list(['2,3,4,5,6,10,11,12,9,8']), list(['3,4,2,5']),\n",
       "       list(['5,3,6,2,8,10,11,12,4,9,14'])], dtype=object)"
      ]
     },
     "metadata": {},
     "execution_count": 15
    }
   ],
   "source": [
    "test1"
   ]
  },
  {
   "cell_type": "code",
   "execution_count": 10,
   "metadata": {},
   "outputs": [],
   "source": [
    "buffer = df"
   ]
  },
  {
   "cell_type": "code",
   "execution_count": 11,
   "metadata": {},
   "outputs": [],
   "source": [
    "buffer2 = test"
   ]
  },
  {
   "cell_type": "code",
   "execution_count": 12,
   "metadata": {},
   "outputs": [],
   "source": [
    "df_without_duplicates = buffer.drop_duplicates(subset=['mac_hash'])\n",
    "test_without_duplicates = buffer2.drop_duplicates(subset=['mac_hash'])"
   ]
  },
  {
   "cell_type": "code",
   "execution_count": 13,
   "metadata": {},
   "outputs": [
    {
     "output_type": "stream",
     "name": "stderr",
     "text": [
      "<ipython-input-13-ba7a277bb419>:1: SettingWithCopyWarning: \nA value is trying to be set on a copy of a slice from a DataFrame.\nTry using .loc[row_indexer,col_indexer] = value instead\n\nSee the caveats in the documentation: https://pandas.pydata.org/pandas-docs/stable/user_guide/indexing.html#returning-a-view-versus-a-copy\n  df_without_duplicates[\"sniffer_loc\"] = data1\n"
     ]
    }
   ],
   "source": [
    "df_without_duplicates[\"sniffer_loc\"] = data1 \n"
   ]
  },
  {
   "cell_type": "code",
   "execution_count": 14,
   "metadata": {},
   "outputs": [
    {
     "output_type": "stream",
     "name": "stderr",
     "text": [
      "<ipython-input-14-6bb6f118fa7f>:1: SettingWithCopyWarning: \nA value is trying to be set on a copy of a slice from a DataFrame.\nTry using .loc[row_indexer,col_indexer] = value instead\n\nSee the caveats in the documentation: https://pandas.pydata.org/pandas-docs/stable/user_guide/indexing.html#returning-a-view-versus-a-copy\n  test_without_duplicates[\"sniffer_loc\"] = test1\n<ipython-input-14-6bb6f118fa7f>:2: SettingWithCopyWarning: \nA value is trying to be set on a copy of a slice from a DataFrame.\nTry using .loc[row_indexer,col_indexer] = value instead\n\nSee the caveats in the documentation: https://pandas.pydata.org/pandas-docs/stable/user_guide/indexing.html#returning-a-view-versus-a-copy\n  test_without_duplicates[\"mac_hash\"] = test1_index\n"
     ]
    }
   ],
   "source": [
    "test_without_duplicates[\"sniffer_loc\"] = test1\n",
    "test_without_duplicates[\"mac_hash\"] = test1_index"
   ]
  },
  {
   "cell_type": "code",
   "execution_count": 21,
   "metadata": {},
   "outputs": [
    {
     "output_type": "execute_result",
     "data": {
      "text/plain": [
       "                               mac_hash                         sniffer_loc  \\\n",
       "0      0003ae8541d0e925fcee242287e2ad27                                [11]   \n",
       "1      00078611037990f7f36b722f22595fe7                 [3,2,4,8,6,10,11,5]   \n",
       "9      000ce31739b333d931813de403156844  [6,8,13,10,11,3,2,7,5,9,1,4,12,14]   \n",
       "23     0027240b2aeb1f7f3c053c073cafb452      [10,12,13,14,9,7,8,4,2,5,6,11]   \n",
       "35     0028a89964416dc9a8a66cc7fe25ef4e          [10,4,3,2,6,9,12,13,11,14]   \n",
       "...                                 ...                                 ...   \n",
       "41606  ffca215be2cb1505d931bd162da60104              [3,5,2,6,4,12,13,10,8]   \n",
       "41615  ffcaf0f29c6bede7b5cd9bc807c31715                         [3,2,4,7,5]   \n",
       "41620  ffd0c4403c3c44dcbe4772821b032252    [6,5,4,2,9,11,8,10,12,13,3,7,14]   \n",
       "41633  ffd7be58ee3c3fb47530ae7e4f251f88                                 [5]   \n",
       "41634  fff2ca0333532d6348d5b4fa39028dd4                   [10,3,13,12,11,9]   \n",
       "\n",
       "              created_time  \n",
       "0      2018-12-07 16:48:08  \n",
       "1      2018-12-07 16:29:35  \n",
       "9      2018-12-06 14:44:29  \n",
       "23     2018-12-08 13:46:25  \n",
       "35     2018-12-08 10:54:12  \n",
       "...                    ...  \n",
       "41606  2018-12-07 17:02:59  \n",
       "41615  2018-12-07 15:39:21  \n",
       "41620  2018-12-08 16:45:22  \n",
       "41633  2018-12-08 16:46:46  \n",
       "41634  2018-12-07 18:35:59  \n",
       "\n",
       "[6959 rows x 3 columns]"
      ],
      "text/html": "<div>\n<style scoped>\n    .dataframe tbody tr th:only-of-type {\n        vertical-align: middle;\n    }\n\n    .dataframe tbody tr th {\n        vertical-align: top;\n    }\n\n    .dataframe thead th {\n        text-align: right;\n    }\n</style>\n<table border=\"1\" class=\"dataframe\">\n  <thead>\n    <tr style=\"text-align: right;\">\n      <th></th>\n      <th>mac_hash</th>\n      <th>sniffer_loc</th>\n      <th>created_time</th>\n    </tr>\n  </thead>\n  <tbody>\n    <tr>\n      <th>0</th>\n      <td>0003ae8541d0e925fcee242287e2ad27</td>\n      <td>[11]</td>\n      <td>2018-12-07 16:48:08</td>\n    </tr>\n    <tr>\n      <th>1</th>\n      <td>00078611037990f7f36b722f22595fe7</td>\n      <td>[3,2,4,8,6,10,11,5]</td>\n      <td>2018-12-07 16:29:35</td>\n    </tr>\n    <tr>\n      <th>9</th>\n      <td>000ce31739b333d931813de403156844</td>\n      <td>[6,8,13,10,11,3,2,7,5,9,1,4,12,14]</td>\n      <td>2018-12-06 14:44:29</td>\n    </tr>\n    <tr>\n      <th>23</th>\n      <td>0027240b2aeb1f7f3c053c073cafb452</td>\n      <td>[10,12,13,14,9,7,8,4,2,5,6,11]</td>\n      <td>2018-12-08 13:46:25</td>\n    </tr>\n    <tr>\n      <th>35</th>\n      <td>0028a89964416dc9a8a66cc7fe25ef4e</td>\n      <td>[10,4,3,2,6,9,12,13,11,14]</td>\n      <td>2018-12-08 10:54:12</td>\n    </tr>\n    <tr>\n      <th>...</th>\n      <td>...</td>\n      <td>...</td>\n      <td>...</td>\n    </tr>\n    <tr>\n      <th>41606</th>\n      <td>ffca215be2cb1505d931bd162da60104</td>\n      <td>[3,5,2,6,4,12,13,10,8]</td>\n      <td>2018-12-07 17:02:59</td>\n    </tr>\n    <tr>\n      <th>41615</th>\n      <td>ffcaf0f29c6bede7b5cd9bc807c31715</td>\n      <td>[3,2,4,7,5]</td>\n      <td>2018-12-07 15:39:21</td>\n    </tr>\n    <tr>\n      <th>41620</th>\n      <td>ffd0c4403c3c44dcbe4772821b032252</td>\n      <td>[6,5,4,2,9,11,8,10,12,13,3,7,14]</td>\n      <td>2018-12-08 16:45:22</td>\n    </tr>\n    <tr>\n      <th>41633</th>\n      <td>ffd7be58ee3c3fb47530ae7e4f251f88</td>\n      <td>[5]</td>\n      <td>2018-12-08 16:46:46</td>\n    </tr>\n    <tr>\n      <th>41634</th>\n      <td>fff2ca0333532d6348d5b4fa39028dd4</td>\n      <td>[10,3,13,12,11,9]</td>\n      <td>2018-12-07 18:35:59</td>\n    </tr>\n  </tbody>\n</table>\n<p>6959 rows × 3 columns</p>\n</div>"
     },
     "metadata": {},
     "execution_count": 21
    }
   ],
   "source": [
    "df_without_duplicates"
   ]
  },
  {
   "cell_type": "code",
   "execution_count": 22,
   "metadata": {},
   "outputs": [
    {
     "output_type": "execute_result",
     "data": {
      "text/plain": [
       "                               mac_hash                      sniffer_loc  \\\n",
       "0      001befc6b70649b2c31d3bf9842c0142                              [5]   \n",
       "1      006f9b3eb4ef8e6b3bbe418a230b369e                              [9]   \n",
       "11     00701f11a41ddfd6c7878f83547c7f31                             [13]   \n",
       "12     007375f6f7da2e2ebbc9cb46a454a9d7                           [5,14]   \n",
       "20     00764e6e16c398d287b653b0dfd9ea84  [3,2,1,5,4,7,10,9,8,11,13,12,6]   \n",
       "...                                 ...                              ...   \n",
       "20380  ff560b5ce15f4945d1960013fa457afe                        [7,2,3,4]   \n",
       "20393  ff79639315a87844d8f6fe9887ffce6c               [11,6,9,8,12,13,3]   \n",
       "20394  ffb29a79ebd3034876cc20c3d553dda6         [2,3,4,5,6,10,11,12,9,8]   \n",
       "20398  ffc4b642af473f02057509a7cbf3d957                        [3,4,2,5]   \n",
       "20408  ffe0ad398b4769d715dd73cee58591de      [5,3,6,2,8,10,11,12,4,9,14]   \n",
       "\n",
       "              created_time  \n",
       "0      2018-12-06 17:21:18  \n",
       "1      2018-12-06 13:45:11  \n",
       "11     2018-12-06 13:46:37  \n",
       "12     2018-12-06 19:24:11  \n",
       "20     2018-12-06 16:19:01  \n",
       "...                    ...  \n",
       "20380  2018-12-08 13:41:36  \n",
       "20393  2018-12-08 12:49:50  \n",
       "20394  2018-12-08 14:00:29  \n",
       "20398  2018-12-08 13:35:52  \n",
       "20408  2018-12-08 10:08:09  \n",
       "\n",
       "[3429 rows x 3 columns]"
      ],
      "text/html": "<div>\n<style scoped>\n    .dataframe tbody tr th:only-of-type {\n        vertical-align: middle;\n    }\n\n    .dataframe tbody tr th {\n        vertical-align: top;\n    }\n\n    .dataframe thead th {\n        text-align: right;\n    }\n</style>\n<table border=\"1\" class=\"dataframe\">\n  <thead>\n    <tr style=\"text-align: right;\">\n      <th></th>\n      <th>mac_hash</th>\n      <th>sniffer_loc</th>\n      <th>created_time</th>\n    </tr>\n  </thead>\n  <tbody>\n    <tr>\n      <th>0</th>\n      <td>001befc6b70649b2c31d3bf9842c0142</td>\n      <td>[5]</td>\n      <td>2018-12-06 17:21:18</td>\n    </tr>\n    <tr>\n      <th>1</th>\n      <td>006f9b3eb4ef8e6b3bbe418a230b369e</td>\n      <td>[9]</td>\n      <td>2018-12-06 13:45:11</td>\n    </tr>\n    <tr>\n      <th>11</th>\n      <td>00701f11a41ddfd6c7878f83547c7f31</td>\n      <td>[13]</td>\n      <td>2018-12-06 13:46:37</td>\n    </tr>\n    <tr>\n      <th>12</th>\n      <td>007375f6f7da2e2ebbc9cb46a454a9d7</td>\n      <td>[5,14]</td>\n      <td>2018-12-06 19:24:11</td>\n    </tr>\n    <tr>\n      <th>20</th>\n      <td>00764e6e16c398d287b653b0dfd9ea84</td>\n      <td>[3,2,1,5,4,7,10,9,8,11,13,12,6]</td>\n      <td>2018-12-06 16:19:01</td>\n    </tr>\n    <tr>\n      <th>...</th>\n      <td>...</td>\n      <td>...</td>\n      <td>...</td>\n    </tr>\n    <tr>\n      <th>20380</th>\n      <td>ff560b5ce15f4945d1960013fa457afe</td>\n      <td>[7,2,3,4]</td>\n      <td>2018-12-08 13:41:36</td>\n    </tr>\n    <tr>\n      <th>20393</th>\n      <td>ff79639315a87844d8f6fe9887ffce6c</td>\n      <td>[11,6,9,8,12,13,3]</td>\n      <td>2018-12-08 12:49:50</td>\n    </tr>\n    <tr>\n      <th>20394</th>\n      <td>ffb29a79ebd3034876cc20c3d553dda6</td>\n      <td>[2,3,4,5,6,10,11,12,9,8]</td>\n      <td>2018-12-08 14:00:29</td>\n    </tr>\n    <tr>\n      <th>20398</th>\n      <td>ffc4b642af473f02057509a7cbf3d957</td>\n      <td>[3,4,2,5]</td>\n      <td>2018-12-08 13:35:52</td>\n    </tr>\n    <tr>\n      <th>20408</th>\n      <td>ffe0ad398b4769d715dd73cee58591de</td>\n      <td>[5,3,6,2,8,10,11,12,4,9,14]</td>\n      <td>2018-12-08 10:08:09</td>\n    </tr>\n  </tbody>\n</table>\n<p>3429 rows × 3 columns</p>\n</div>"
     },
     "metadata": {},
     "execution_count": 22
    }
   ],
   "source": [
    "test_without_duplicates"
   ]
  },
  {
   "cell_type": "code",
   "execution_count": 15,
   "metadata": {},
   "outputs": [],
   "source": [
    "label = pd.read_csv('training-label.csv') \n"
   ]
  },
  {
   "cell_type": "code",
   "execution_count": 24,
   "metadata": {},
   "outputs": [
    {
     "output_type": "execute_result",
     "data": {
      "text/plain": [
       "                              mac_hash  label\n",
       "0     10f6ad2e3fa3b3da8ceb3fbd95658681      4\n",
       "1     5272841b630d74290ec129c64dd6378b      0\n",
       "2     8ab74d094708a27c9660e897b93a50f9      3\n",
       "3     3d00887dd6e574dd63974bc6c69b23b0      1\n",
       "4     6461fce7f6f184401c961fda75069262      1\n",
       "...                                ...    ...\n",
       "6954  a3a539edc2df183bb9725110ced88721      0\n",
       "6955  9d05e643d82f44305ad7ab8e04a9c755      2\n",
       "6956  a74d4fd585937277f7fc131ae8be61a5      2\n",
       "6957  cacf92cf30cc0cf81063f267e7513b66      2\n",
       "6958  0fd06086be3a241a360306ce70ac4224      0\n",
       "\n",
       "[6959 rows x 2 columns]"
      ],
      "text/html": "<div>\n<style scoped>\n    .dataframe tbody tr th:only-of-type {\n        vertical-align: middle;\n    }\n\n    .dataframe tbody tr th {\n        vertical-align: top;\n    }\n\n    .dataframe thead th {\n        text-align: right;\n    }\n</style>\n<table border=\"1\" class=\"dataframe\">\n  <thead>\n    <tr style=\"text-align: right;\">\n      <th></th>\n      <th>mac_hash</th>\n      <th>label</th>\n    </tr>\n  </thead>\n  <tbody>\n    <tr>\n      <th>0</th>\n      <td>10f6ad2e3fa3b3da8ceb3fbd95658681</td>\n      <td>4</td>\n    </tr>\n    <tr>\n      <th>1</th>\n      <td>5272841b630d74290ec129c64dd6378b</td>\n      <td>0</td>\n    </tr>\n    <tr>\n      <th>2</th>\n      <td>8ab74d094708a27c9660e897b93a50f9</td>\n      <td>3</td>\n    </tr>\n    <tr>\n      <th>3</th>\n      <td>3d00887dd6e574dd63974bc6c69b23b0</td>\n      <td>1</td>\n    </tr>\n    <tr>\n      <th>4</th>\n      <td>6461fce7f6f184401c961fda75069262</td>\n      <td>1</td>\n    </tr>\n    <tr>\n      <th>...</th>\n      <td>...</td>\n      <td>...</td>\n    </tr>\n    <tr>\n      <th>6954</th>\n      <td>a3a539edc2df183bb9725110ced88721</td>\n      <td>0</td>\n    </tr>\n    <tr>\n      <th>6955</th>\n      <td>9d05e643d82f44305ad7ab8e04a9c755</td>\n      <td>2</td>\n    </tr>\n    <tr>\n      <th>6956</th>\n      <td>a74d4fd585937277f7fc131ae8be61a5</td>\n      <td>2</td>\n    </tr>\n    <tr>\n      <th>6957</th>\n      <td>cacf92cf30cc0cf81063f267e7513b66</td>\n      <td>2</td>\n    </tr>\n    <tr>\n      <th>6958</th>\n      <td>0fd06086be3a241a360306ce70ac4224</td>\n      <td>0</td>\n    </tr>\n  </tbody>\n</table>\n<p>6959 rows × 2 columns</p>\n</div>"
     },
     "metadata": {},
     "execution_count": 24
    }
   ],
   "source": [
    "label"
   ]
  },
  {
   "cell_type": "code",
   "execution_count": 16,
   "metadata": {},
   "outputs": [
    {
     "output_type": "stream",
     "name": "stderr",
     "text": [
      "<ipython-input-16-9fdb14f320df>:1: SettingWithCopyWarning: \nA value is trying to be set on a copy of a slice from a DataFrame.\nTry using .loc[row_indexer,col_indexer] = value instead\n\nSee the caveats in the documentation: https://pandas.pydata.org/pandas-docs/stable/user_guide/indexing.html#returning-a-view-versus-a-copy\n  df_without_duplicates[\"label\"] = np.array(0)\n"
     ]
    }
   ],
   "source": [
    "df_without_duplicates[\"label\"] = np.array(0)"
   ]
  },
  {
   "cell_type": "code",
   "execution_count": 26,
   "metadata": {},
   "outputs": [
    {
     "output_type": "execute_result",
     "data": {
      "text/plain": [
       "                               mac_hash                         sniffer_loc  \\\n",
       "0      0003ae8541d0e925fcee242287e2ad27                                [11]   \n",
       "1      00078611037990f7f36b722f22595fe7                 [3,2,4,8,6,10,11,5]   \n",
       "9      000ce31739b333d931813de403156844  [6,8,13,10,11,3,2,7,5,9,1,4,12,14]   \n",
       "23     0027240b2aeb1f7f3c053c073cafb452      [10,12,13,14,9,7,8,4,2,5,6,11]   \n",
       "35     0028a89964416dc9a8a66cc7fe25ef4e          [10,4,3,2,6,9,12,13,11,14]   \n",
       "...                                 ...                                 ...   \n",
       "41606  ffca215be2cb1505d931bd162da60104              [3,5,2,6,4,12,13,10,8]   \n",
       "41615  ffcaf0f29c6bede7b5cd9bc807c31715                         [3,2,4,7,5]   \n",
       "41620  ffd0c4403c3c44dcbe4772821b032252    [6,5,4,2,9,11,8,10,12,13,3,7,14]   \n",
       "41633  ffd7be58ee3c3fb47530ae7e4f251f88                                 [5]   \n",
       "41634  fff2ca0333532d6348d5b4fa39028dd4                   [10,3,13,12,11,9]   \n",
       "\n",
       "              created_time  label  \n",
       "0      2018-12-07 16:48:08      0  \n",
       "1      2018-12-07 16:29:35      0  \n",
       "9      2018-12-06 14:44:29      0  \n",
       "23     2018-12-08 13:46:25      0  \n",
       "35     2018-12-08 10:54:12      0  \n",
       "...                    ...    ...  \n",
       "41606  2018-12-07 17:02:59      0  \n",
       "41615  2018-12-07 15:39:21      0  \n",
       "41620  2018-12-08 16:45:22      0  \n",
       "41633  2018-12-08 16:46:46      0  \n",
       "41634  2018-12-07 18:35:59      0  \n",
       "\n",
       "[6959 rows x 4 columns]"
      ],
      "text/html": "<div>\n<style scoped>\n    .dataframe tbody tr th:only-of-type {\n        vertical-align: middle;\n    }\n\n    .dataframe tbody tr th {\n        vertical-align: top;\n    }\n\n    .dataframe thead th {\n        text-align: right;\n    }\n</style>\n<table border=\"1\" class=\"dataframe\">\n  <thead>\n    <tr style=\"text-align: right;\">\n      <th></th>\n      <th>mac_hash</th>\n      <th>sniffer_loc</th>\n      <th>created_time</th>\n      <th>label</th>\n    </tr>\n  </thead>\n  <tbody>\n    <tr>\n      <th>0</th>\n      <td>0003ae8541d0e925fcee242287e2ad27</td>\n      <td>[11]</td>\n      <td>2018-12-07 16:48:08</td>\n      <td>0</td>\n    </tr>\n    <tr>\n      <th>1</th>\n      <td>00078611037990f7f36b722f22595fe7</td>\n      <td>[3,2,4,8,6,10,11,5]</td>\n      <td>2018-12-07 16:29:35</td>\n      <td>0</td>\n    </tr>\n    <tr>\n      <th>9</th>\n      <td>000ce31739b333d931813de403156844</td>\n      <td>[6,8,13,10,11,3,2,7,5,9,1,4,12,14]</td>\n      <td>2018-12-06 14:44:29</td>\n      <td>0</td>\n    </tr>\n    <tr>\n      <th>23</th>\n      <td>0027240b2aeb1f7f3c053c073cafb452</td>\n      <td>[10,12,13,14,9,7,8,4,2,5,6,11]</td>\n      <td>2018-12-08 13:46:25</td>\n      <td>0</td>\n    </tr>\n    <tr>\n      <th>35</th>\n      <td>0028a89964416dc9a8a66cc7fe25ef4e</td>\n      <td>[10,4,3,2,6,9,12,13,11,14]</td>\n      <td>2018-12-08 10:54:12</td>\n      <td>0</td>\n    </tr>\n    <tr>\n      <th>...</th>\n      <td>...</td>\n      <td>...</td>\n      <td>...</td>\n      <td>...</td>\n    </tr>\n    <tr>\n      <th>41606</th>\n      <td>ffca215be2cb1505d931bd162da60104</td>\n      <td>[3,5,2,6,4,12,13,10,8]</td>\n      <td>2018-12-07 17:02:59</td>\n      <td>0</td>\n    </tr>\n    <tr>\n      <th>41615</th>\n      <td>ffcaf0f29c6bede7b5cd9bc807c31715</td>\n      <td>[3,2,4,7,5]</td>\n      <td>2018-12-07 15:39:21</td>\n      <td>0</td>\n    </tr>\n    <tr>\n      <th>41620</th>\n      <td>ffd0c4403c3c44dcbe4772821b032252</td>\n      <td>[6,5,4,2,9,11,8,10,12,13,3,7,14]</td>\n      <td>2018-12-08 16:45:22</td>\n      <td>0</td>\n    </tr>\n    <tr>\n      <th>41633</th>\n      <td>ffd7be58ee3c3fb47530ae7e4f251f88</td>\n      <td>[5]</td>\n      <td>2018-12-08 16:46:46</td>\n      <td>0</td>\n    </tr>\n    <tr>\n      <th>41634</th>\n      <td>fff2ca0333532d6348d5b4fa39028dd4</td>\n      <td>[10,3,13,12,11,9]</td>\n      <td>2018-12-07 18:35:59</td>\n      <td>0</td>\n    </tr>\n  </tbody>\n</table>\n<p>6959 rows × 4 columns</p>\n</div>"
     },
     "metadata": {},
     "execution_count": 26
    }
   ],
   "source": [
    "df_without_duplicates"
   ]
  },
  {
   "source": [
    "主要思路為設置15col 並依序放入 沒經過的補0"
   ],
   "cell_type": "markdown",
   "metadata": {}
  },
  {
   "cell_type": "code",
   "execution_count": 17,
   "metadata": {
    "tags": []
   },
   "outputs": [
    {
     "output_type": "stream",
     "name": "stderr",
     "text": [
      "<ipython-input-17-f011a9f472d6>:4: SettingWithCopyWarning: \nA value is trying to be set on a copy of a slice from a DataFrame\n\nSee the caveats in the documentation: https://pandas.pydata.org/pandas-docs/stable/user_guide/indexing.html#returning-a-view-versus-a-copy\n  df_without_duplicates['label'][index] =  label['label'][y]\nC:\\Users\\richard\\anaconda3\\lib\\site-packages\\IPython\\core\\interactiveshell.py:3437: SettingWithCopyWarning: \nA value is trying to be set on a copy of a slice from a DataFrame\n\nSee the caveats in the documentation: https://pandas.pydata.org/pandas-docs/stable/user_guide/indexing.html#returning-a-view-versus-a-copy\n  exec(code_obj, self.user_global_ns, self.user_ns)\n"
     ]
    }
   ],
   "source": [
    "y = 0\n",
    "for i in label['mac_hash']:\n",
    "    index = df_without_duplicates.loc[df_without_duplicates['mac_hash'] == i].index[0]\n",
    "    df_without_duplicates['label'][index] =  label['label'][y]\n",
    "    y+=1"
   ]
  },
  {
   "cell_type": "code",
   "execution_count": 18,
   "metadata": {},
   "outputs": [],
   "source": [
    "df_without_duplicates = df_without_duplicates.drop([\"created_time\"],axis = 1)"
   ]
  },
  {
   "cell_type": "code",
   "execution_count": 19,
   "metadata": {},
   "outputs": [],
   "source": [
    "df_without_duplicates = df_without_duplicates.reset_index(drop=True)\n"
   ]
  },
  {
   "cell_type": "code",
   "execution_count": 20,
   "metadata": {},
   "outputs": [],
   "source": [
    "buffer = {\"mac_hash\":[],\"1\":[],\"2\":[],\"3\":[],\"4\":[],\"5\":[],\"6\":[],\"7\":[],\"8\":[],\"9\":[],\"10\":[],\"11\":[],\"12\":[],\"13\":[],\"14\":[],\"15\":[]}\n",
    "data_with_15 = pd.DataFrame(buffer)\n",
    "data_with_15['mac_hash'] = df_without_duplicates['mac_hash']"
   ]
  },
  {
   "cell_type": "code",
   "execution_count": 34,
   "metadata": {},
   "outputs": [
    {
     "output_type": "execute_result",
     "data": {
      "text/plain": [
       "                              mac_hash   1   2   3   4   5   6   7   8   9  \\\n",
       "0     0003ae8541d0e925fcee242287e2ad27 NaN NaN NaN NaN NaN NaN NaN NaN NaN   \n",
       "1     00078611037990f7f36b722f22595fe7 NaN NaN NaN NaN NaN NaN NaN NaN NaN   \n",
       "2     000ce31739b333d931813de403156844 NaN NaN NaN NaN NaN NaN NaN NaN NaN   \n",
       "3     0027240b2aeb1f7f3c053c073cafb452 NaN NaN NaN NaN NaN NaN NaN NaN NaN   \n",
       "4     0028a89964416dc9a8a66cc7fe25ef4e NaN NaN NaN NaN NaN NaN NaN NaN NaN   \n",
       "...                                ...  ..  ..  ..  ..  ..  ..  ..  ..  ..   \n",
       "6954  ffca215be2cb1505d931bd162da60104 NaN NaN NaN NaN NaN NaN NaN NaN NaN   \n",
       "6955  ffcaf0f29c6bede7b5cd9bc807c31715 NaN NaN NaN NaN NaN NaN NaN NaN NaN   \n",
       "6956  ffd0c4403c3c44dcbe4772821b032252 NaN NaN NaN NaN NaN NaN NaN NaN NaN   \n",
       "6957  ffd7be58ee3c3fb47530ae7e4f251f88 NaN NaN NaN NaN NaN NaN NaN NaN NaN   \n",
       "6958  fff2ca0333532d6348d5b4fa39028dd4 NaN NaN NaN NaN NaN NaN NaN NaN NaN   \n",
       "\n",
       "      10  11  12  13  14  15  \n",
       "0    NaN NaN NaN NaN NaN NaN  \n",
       "1    NaN NaN NaN NaN NaN NaN  \n",
       "2    NaN NaN NaN NaN NaN NaN  \n",
       "3    NaN NaN NaN NaN NaN NaN  \n",
       "4    NaN NaN NaN NaN NaN NaN  \n",
       "...   ..  ..  ..  ..  ..  ..  \n",
       "6954 NaN NaN NaN NaN NaN NaN  \n",
       "6955 NaN NaN NaN NaN NaN NaN  \n",
       "6956 NaN NaN NaN NaN NaN NaN  \n",
       "6957 NaN NaN NaN NaN NaN NaN  \n",
       "6958 NaN NaN NaN NaN NaN NaN  \n",
       "\n",
       "[6959 rows x 16 columns]"
      ],
      "text/html": "<div>\n<style scoped>\n    .dataframe tbody tr th:only-of-type {\n        vertical-align: middle;\n    }\n\n    .dataframe tbody tr th {\n        vertical-align: top;\n    }\n\n    .dataframe thead th {\n        text-align: right;\n    }\n</style>\n<table border=\"1\" class=\"dataframe\">\n  <thead>\n    <tr style=\"text-align: right;\">\n      <th></th>\n      <th>mac_hash</th>\n      <th>1</th>\n      <th>2</th>\n      <th>3</th>\n      <th>4</th>\n      <th>5</th>\n      <th>6</th>\n      <th>7</th>\n      <th>8</th>\n      <th>9</th>\n      <th>10</th>\n      <th>11</th>\n      <th>12</th>\n      <th>13</th>\n      <th>14</th>\n      <th>15</th>\n    </tr>\n  </thead>\n  <tbody>\n    <tr>\n      <th>0</th>\n      <td>0003ae8541d0e925fcee242287e2ad27</td>\n      <td>NaN</td>\n      <td>NaN</td>\n      <td>NaN</td>\n      <td>NaN</td>\n      <td>NaN</td>\n      <td>NaN</td>\n      <td>NaN</td>\n      <td>NaN</td>\n      <td>NaN</td>\n      <td>NaN</td>\n      <td>NaN</td>\n      <td>NaN</td>\n      <td>NaN</td>\n      <td>NaN</td>\n      <td>NaN</td>\n    </tr>\n    <tr>\n      <th>1</th>\n      <td>00078611037990f7f36b722f22595fe7</td>\n      <td>NaN</td>\n      <td>NaN</td>\n      <td>NaN</td>\n      <td>NaN</td>\n      <td>NaN</td>\n      <td>NaN</td>\n      <td>NaN</td>\n      <td>NaN</td>\n      <td>NaN</td>\n      <td>NaN</td>\n      <td>NaN</td>\n      <td>NaN</td>\n      <td>NaN</td>\n      <td>NaN</td>\n      <td>NaN</td>\n    </tr>\n    <tr>\n      <th>2</th>\n      <td>000ce31739b333d931813de403156844</td>\n      <td>NaN</td>\n      <td>NaN</td>\n      <td>NaN</td>\n      <td>NaN</td>\n      <td>NaN</td>\n      <td>NaN</td>\n      <td>NaN</td>\n      <td>NaN</td>\n      <td>NaN</td>\n      <td>NaN</td>\n      <td>NaN</td>\n      <td>NaN</td>\n      <td>NaN</td>\n      <td>NaN</td>\n      <td>NaN</td>\n    </tr>\n    <tr>\n      <th>3</th>\n      <td>0027240b2aeb1f7f3c053c073cafb452</td>\n      <td>NaN</td>\n      <td>NaN</td>\n      <td>NaN</td>\n      <td>NaN</td>\n      <td>NaN</td>\n      <td>NaN</td>\n      <td>NaN</td>\n      <td>NaN</td>\n      <td>NaN</td>\n      <td>NaN</td>\n      <td>NaN</td>\n      <td>NaN</td>\n      <td>NaN</td>\n      <td>NaN</td>\n      <td>NaN</td>\n    </tr>\n    <tr>\n      <th>4</th>\n      <td>0028a89964416dc9a8a66cc7fe25ef4e</td>\n      <td>NaN</td>\n      <td>NaN</td>\n      <td>NaN</td>\n      <td>NaN</td>\n      <td>NaN</td>\n      <td>NaN</td>\n      <td>NaN</td>\n      <td>NaN</td>\n      <td>NaN</td>\n      <td>NaN</td>\n      <td>NaN</td>\n      <td>NaN</td>\n      <td>NaN</td>\n      <td>NaN</td>\n      <td>NaN</td>\n    </tr>\n    <tr>\n      <th>...</th>\n      <td>...</td>\n      <td>...</td>\n      <td>...</td>\n      <td>...</td>\n      <td>...</td>\n      <td>...</td>\n      <td>...</td>\n      <td>...</td>\n      <td>...</td>\n      <td>...</td>\n      <td>...</td>\n      <td>...</td>\n      <td>...</td>\n      <td>...</td>\n      <td>...</td>\n      <td>...</td>\n    </tr>\n    <tr>\n      <th>6954</th>\n      <td>ffca215be2cb1505d931bd162da60104</td>\n      <td>NaN</td>\n      <td>NaN</td>\n      <td>NaN</td>\n      <td>NaN</td>\n      <td>NaN</td>\n      <td>NaN</td>\n      <td>NaN</td>\n      <td>NaN</td>\n      <td>NaN</td>\n      <td>NaN</td>\n      <td>NaN</td>\n      <td>NaN</td>\n      <td>NaN</td>\n      <td>NaN</td>\n      <td>NaN</td>\n    </tr>\n    <tr>\n      <th>6955</th>\n      <td>ffcaf0f29c6bede7b5cd9bc807c31715</td>\n      <td>NaN</td>\n      <td>NaN</td>\n      <td>NaN</td>\n      <td>NaN</td>\n      <td>NaN</td>\n      <td>NaN</td>\n      <td>NaN</td>\n      <td>NaN</td>\n      <td>NaN</td>\n      <td>NaN</td>\n      <td>NaN</td>\n      <td>NaN</td>\n      <td>NaN</td>\n      <td>NaN</td>\n      <td>NaN</td>\n    </tr>\n    <tr>\n      <th>6956</th>\n      <td>ffd0c4403c3c44dcbe4772821b032252</td>\n      <td>NaN</td>\n      <td>NaN</td>\n      <td>NaN</td>\n      <td>NaN</td>\n      <td>NaN</td>\n      <td>NaN</td>\n      <td>NaN</td>\n      <td>NaN</td>\n      <td>NaN</td>\n      <td>NaN</td>\n      <td>NaN</td>\n      <td>NaN</td>\n      <td>NaN</td>\n      <td>NaN</td>\n      <td>NaN</td>\n    </tr>\n    <tr>\n      <th>6957</th>\n      <td>ffd7be58ee3c3fb47530ae7e4f251f88</td>\n      <td>NaN</td>\n      <td>NaN</td>\n      <td>NaN</td>\n      <td>NaN</td>\n      <td>NaN</td>\n      <td>NaN</td>\n      <td>NaN</td>\n      <td>NaN</td>\n      <td>NaN</td>\n      <td>NaN</td>\n      <td>NaN</td>\n      <td>NaN</td>\n      <td>NaN</td>\n      <td>NaN</td>\n      <td>NaN</td>\n    </tr>\n    <tr>\n      <th>6958</th>\n      <td>fff2ca0333532d6348d5b4fa39028dd4</td>\n      <td>NaN</td>\n      <td>NaN</td>\n      <td>NaN</td>\n      <td>NaN</td>\n      <td>NaN</td>\n      <td>NaN</td>\n      <td>NaN</td>\n      <td>NaN</td>\n      <td>NaN</td>\n      <td>NaN</td>\n      <td>NaN</td>\n      <td>NaN</td>\n      <td>NaN</td>\n      <td>NaN</td>\n      <td>NaN</td>\n    </tr>\n  </tbody>\n</table>\n<p>6959 rows × 16 columns</p>\n</div>"
     },
     "metadata": {},
     "execution_count": 34
    }
   ],
   "source": [
    "data_with_15"
   ]
  },
  {
   "cell_type": "code",
   "execution_count": 21,
   "metadata": {
    "tags": []
   },
   "outputs": [
    {
     "output_type": "stream",
     "name": "stderr",
     "text": [
      "<ipython-input-21-f3752db45270>:6: SettingWithCopyWarning: \nA value is trying to be set on a copy of a slice from a DataFrame\n\nSee the caveats in the documentation: https://pandas.pydata.org/pandas-docs/stable/user_guide/indexing.html#returning-a-view-versus-a-copy\n  data_with_15[pos][y] = int(buffer[i])\n"
     ]
    }
   ],
   "source": [
    "  y = 0\n",
    "  for j in df_without_duplicates['sniffer_loc']: \n",
    "    buffer = j[0].split(',')    \n",
    "    for i in range(len(buffer)):        \n",
    "        pos = str(i+1)\n",
    "        data_with_15[pos][y] = int(buffer[i])\n",
    "    y+=1\n",
    "  "
   ]
  },
  {
   "cell_type": "code",
   "execution_count": 22,
   "metadata": {},
   "outputs": [],
   "source": [
    "data_with_15 = data_with_15.fillna(0)"
   ]
  },
  {
   "cell_type": "code",
   "execution_count": 37,
   "metadata": {},
   "outputs": [
    {
     "output_type": "execute_result",
     "data": {
      "text/plain": [
       "                              mac_hash     1     2     3     4     5     6  \\\n",
       "0     0003ae8541d0e925fcee242287e2ad27  11.0   0.0   0.0   0.0   0.0   0.0   \n",
       "1     00078611037990f7f36b722f22595fe7   3.0   2.0   4.0   8.0   6.0  10.0   \n",
       "2     000ce31739b333d931813de403156844   6.0   8.0  13.0  10.0  11.0   3.0   \n",
       "3     0027240b2aeb1f7f3c053c073cafb452  10.0  12.0  13.0  14.0   9.0   7.0   \n",
       "4     0028a89964416dc9a8a66cc7fe25ef4e  10.0   4.0   3.0   2.0   6.0   9.0   \n",
       "...                                ...   ...   ...   ...   ...   ...   ...   \n",
       "6954  ffca215be2cb1505d931bd162da60104   3.0   5.0   2.0   6.0   4.0  12.0   \n",
       "6955  ffcaf0f29c6bede7b5cd9bc807c31715   3.0   2.0   4.0   7.0   5.0   0.0   \n",
       "6956  ffd0c4403c3c44dcbe4772821b032252   6.0   5.0   4.0   2.0   9.0  11.0   \n",
       "6957  ffd7be58ee3c3fb47530ae7e4f251f88   5.0   0.0   0.0   0.0   0.0   0.0   \n",
       "6958  fff2ca0333532d6348d5b4fa39028dd4  10.0   3.0  13.0  12.0  11.0   9.0   \n",
       "\n",
       "         7     8     9    10   11    12    13    14   15  \n",
       "0      0.0   0.0   0.0   0.0  0.0   0.0   0.0   0.0  0.0  \n",
       "1     11.0   5.0   0.0   0.0  0.0   0.0   0.0   0.0  0.0  \n",
       "2      2.0   7.0   5.0   9.0  1.0   4.0  12.0  14.0  0.0  \n",
       "3      8.0   4.0   2.0   5.0  6.0  11.0   0.0   0.0  0.0  \n",
       "4     12.0  13.0  11.0  14.0  0.0   0.0   0.0   0.0  0.0  \n",
       "...    ...   ...   ...   ...  ...   ...   ...   ...  ...  \n",
       "6954  13.0  10.0   8.0   0.0  0.0   0.0   0.0   0.0  0.0  \n",
       "6955   0.0   0.0   0.0   0.0  0.0   0.0   0.0   0.0  0.0  \n",
       "6956   8.0  10.0  12.0  13.0  3.0   7.0  14.0   0.0  0.0  \n",
       "6957   0.0   0.0   0.0   0.0  0.0   0.0   0.0   0.0  0.0  \n",
       "6958   0.0   0.0   0.0   0.0  0.0   0.0   0.0   0.0  0.0  \n",
       "\n",
       "[6959 rows x 16 columns]"
      ],
      "text/html": "<div>\n<style scoped>\n    .dataframe tbody tr th:only-of-type {\n        vertical-align: middle;\n    }\n\n    .dataframe tbody tr th {\n        vertical-align: top;\n    }\n\n    .dataframe thead th {\n        text-align: right;\n    }\n</style>\n<table border=\"1\" class=\"dataframe\">\n  <thead>\n    <tr style=\"text-align: right;\">\n      <th></th>\n      <th>mac_hash</th>\n      <th>1</th>\n      <th>2</th>\n      <th>3</th>\n      <th>4</th>\n      <th>5</th>\n      <th>6</th>\n      <th>7</th>\n      <th>8</th>\n      <th>9</th>\n      <th>10</th>\n      <th>11</th>\n      <th>12</th>\n      <th>13</th>\n      <th>14</th>\n      <th>15</th>\n    </tr>\n  </thead>\n  <tbody>\n    <tr>\n      <th>0</th>\n      <td>0003ae8541d0e925fcee242287e2ad27</td>\n      <td>11.0</td>\n      <td>0.0</td>\n      <td>0.0</td>\n      <td>0.0</td>\n      <td>0.0</td>\n      <td>0.0</td>\n      <td>0.0</td>\n      <td>0.0</td>\n      <td>0.0</td>\n      <td>0.0</td>\n      <td>0.0</td>\n      <td>0.0</td>\n      <td>0.0</td>\n      <td>0.0</td>\n      <td>0.0</td>\n    </tr>\n    <tr>\n      <th>1</th>\n      <td>00078611037990f7f36b722f22595fe7</td>\n      <td>3.0</td>\n      <td>2.0</td>\n      <td>4.0</td>\n      <td>8.0</td>\n      <td>6.0</td>\n      <td>10.0</td>\n      <td>11.0</td>\n      <td>5.0</td>\n      <td>0.0</td>\n      <td>0.0</td>\n      <td>0.0</td>\n      <td>0.0</td>\n      <td>0.0</td>\n      <td>0.0</td>\n      <td>0.0</td>\n    </tr>\n    <tr>\n      <th>2</th>\n      <td>000ce31739b333d931813de403156844</td>\n      <td>6.0</td>\n      <td>8.0</td>\n      <td>13.0</td>\n      <td>10.0</td>\n      <td>11.0</td>\n      <td>3.0</td>\n      <td>2.0</td>\n      <td>7.0</td>\n      <td>5.0</td>\n      <td>9.0</td>\n      <td>1.0</td>\n      <td>4.0</td>\n      <td>12.0</td>\n      <td>14.0</td>\n      <td>0.0</td>\n    </tr>\n    <tr>\n      <th>3</th>\n      <td>0027240b2aeb1f7f3c053c073cafb452</td>\n      <td>10.0</td>\n      <td>12.0</td>\n      <td>13.0</td>\n      <td>14.0</td>\n      <td>9.0</td>\n      <td>7.0</td>\n      <td>8.0</td>\n      <td>4.0</td>\n      <td>2.0</td>\n      <td>5.0</td>\n      <td>6.0</td>\n      <td>11.0</td>\n      <td>0.0</td>\n      <td>0.0</td>\n      <td>0.0</td>\n    </tr>\n    <tr>\n      <th>4</th>\n      <td>0028a89964416dc9a8a66cc7fe25ef4e</td>\n      <td>10.0</td>\n      <td>4.0</td>\n      <td>3.0</td>\n      <td>2.0</td>\n      <td>6.0</td>\n      <td>9.0</td>\n      <td>12.0</td>\n      <td>13.0</td>\n      <td>11.0</td>\n      <td>14.0</td>\n      <td>0.0</td>\n      <td>0.0</td>\n      <td>0.0</td>\n      <td>0.0</td>\n      <td>0.0</td>\n    </tr>\n    <tr>\n      <th>...</th>\n      <td>...</td>\n      <td>...</td>\n      <td>...</td>\n      <td>...</td>\n      <td>...</td>\n      <td>...</td>\n      <td>...</td>\n      <td>...</td>\n      <td>...</td>\n      <td>...</td>\n      <td>...</td>\n      <td>...</td>\n      <td>...</td>\n      <td>...</td>\n      <td>...</td>\n      <td>...</td>\n    </tr>\n    <tr>\n      <th>6954</th>\n      <td>ffca215be2cb1505d931bd162da60104</td>\n      <td>3.0</td>\n      <td>5.0</td>\n      <td>2.0</td>\n      <td>6.0</td>\n      <td>4.0</td>\n      <td>12.0</td>\n      <td>13.0</td>\n      <td>10.0</td>\n      <td>8.0</td>\n      <td>0.0</td>\n      <td>0.0</td>\n      <td>0.0</td>\n      <td>0.0</td>\n      <td>0.0</td>\n      <td>0.0</td>\n    </tr>\n    <tr>\n      <th>6955</th>\n      <td>ffcaf0f29c6bede7b5cd9bc807c31715</td>\n      <td>3.0</td>\n      <td>2.0</td>\n      <td>4.0</td>\n      <td>7.0</td>\n      <td>5.0</td>\n      <td>0.0</td>\n      <td>0.0</td>\n      <td>0.0</td>\n      <td>0.0</td>\n      <td>0.0</td>\n      <td>0.0</td>\n      <td>0.0</td>\n      <td>0.0</td>\n      <td>0.0</td>\n      <td>0.0</td>\n    </tr>\n    <tr>\n      <th>6956</th>\n      <td>ffd0c4403c3c44dcbe4772821b032252</td>\n      <td>6.0</td>\n      <td>5.0</td>\n      <td>4.0</td>\n      <td>2.0</td>\n      <td>9.0</td>\n      <td>11.0</td>\n      <td>8.0</td>\n      <td>10.0</td>\n      <td>12.0</td>\n      <td>13.0</td>\n      <td>3.0</td>\n      <td>7.0</td>\n      <td>14.0</td>\n      <td>0.0</td>\n      <td>0.0</td>\n    </tr>\n    <tr>\n      <th>6957</th>\n      <td>ffd7be58ee3c3fb47530ae7e4f251f88</td>\n      <td>5.0</td>\n      <td>0.0</td>\n      <td>0.0</td>\n      <td>0.0</td>\n      <td>0.0</td>\n      <td>0.0</td>\n      <td>0.0</td>\n      <td>0.0</td>\n      <td>0.0</td>\n      <td>0.0</td>\n      <td>0.0</td>\n      <td>0.0</td>\n      <td>0.0</td>\n      <td>0.0</td>\n      <td>0.0</td>\n    </tr>\n    <tr>\n      <th>6958</th>\n      <td>fff2ca0333532d6348d5b4fa39028dd4</td>\n      <td>10.0</td>\n      <td>3.0</td>\n      <td>13.0</td>\n      <td>12.0</td>\n      <td>11.0</td>\n      <td>9.0</td>\n      <td>0.0</td>\n      <td>0.0</td>\n      <td>0.0</td>\n      <td>0.0</td>\n      <td>0.0</td>\n      <td>0.0</td>\n      <td>0.0</td>\n      <td>0.0</td>\n      <td>0.0</td>\n    </tr>\n  </tbody>\n</table>\n<p>6959 rows × 16 columns</p>\n</div>"
     },
     "metadata": {},
     "execution_count": 37
    }
   ],
   "source": [
    "data_with_15"
   ]
  },
  {
   "cell_type": "code",
   "execution_count": 23,
   "metadata": {},
   "outputs": [],
   "source": [
    "test_without_duplicates = test_without_duplicates.drop([\"created_time\"],axis = 1)\n",
    "test_without_duplicates = test_without_duplicates.reset_index(drop=True)"
   ]
  },
  {
   "cell_type": "code",
   "execution_count": 39,
   "metadata": {},
   "outputs": [
    {
     "output_type": "execute_result",
     "data": {
      "text/plain": [
       "                              mac_hash                      sniffer_loc\n",
       "0     001befc6b70649b2c31d3bf9842c0142                              [5]\n",
       "1     006f9b3eb4ef8e6b3bbe418a230b369e                              [9]\n",
       "2     00701f11a41ddfd6c7878f83547c7f31                             [13]\n",
       "3     007375f6f7da2e2ebbc9cb46a454a9d7                           [5,14]\n",
       "4     00764e6e16c398d287b653b0dfd9ea84  [3,2,1,5,4,7,10,9,8,11,13,12,6]\n",
       "...                                ...                              ...\n",
       "3424  ff560b5ce15f4945d1960013fa457afe                        [7,2,3,4]\n",
       "3425  ff79639315a87844d8f6fe9887ffce6c               [11,6,9,8,12,13,3]\n",
       "3426  ffb29a79ebd3034876cc20c3d553dda6         [2,3,4,5,6,10,11,12,9,8]\n",
       "3427  ffc4b642af473f02057509a7cbf3d957                        [3,4,2,5]\n",
       "3428  ffe0ad398b4769d715dd73cee58591de      [5,3,6,2,8,10,11,12,4,9,14]\n",
       "\n",
       "[3429 rows x 2 columns]"
      ],
      "text/html": "<div>\n<style scoped>\n    .dataframe tbody tr th:only-of-type {\n        vertical-align: middle;\n    }\n\n    .dataframe tbody tr th {\n        vertical-align: top;\n    }\n\n    .dataframe thead th {\n        text-align: right;\n    }\n</style>\n<table border=\"1\" class=\"dataframe\">\n  <thead>\n    <tr style=\"text-align: right;\">\n      <th></th>\n      <th>mac_hash</th>\n      <th>sniffer_loc</th>\n    </tr>\n  </thead>\n  <tbody>\n    <tr>\n      <th>0</th>\n      <td>001befc6b70649b2c31d3bf9842c0142</td>\n      <td>[5]</td>\n    </tr>\n    <tr>\n      <th>1</th>\n      <td>006f9b3eb4ef8e6b3bbe418a230b369e</td>\n      <td>[9]</td>\n    </tr>\n    <tr>\n      <th>2</th>\n      <td>00701f11a41ddfd6c7878f83547c7f31</td>\n      <td>[13]</td>\n    </tr>\n    <tr>\n      <th>3</th>\n      <td>007375f6f7da2e2ebbc9cb46a454a9d7</td>\n      <td>[5,14]</td>\n    </tr>\n    <tr>\n      <th>4</th>\n      <td>00764e6e16c398d287b653b0dfd9ea84</td>\n      <td>[3,2,1,5,4,7,10,9,8,11,13,12,6]</td>\n    </tr>\n    <tr>\n      <th>...</th>\n      <td>...</td>\n      <td>...</td>\n    </tr>\n    <tr>\n      <th>3424</th>\n      <td>ff560b5ce15f4945d1960013fa457afe</td>\n      <td>[7,2,3,4]</td>\n    </tr>\n    <tr>\n      <th>3425</th>\n      <td>ff79639315a87844d8f6fe9887ffce6c</td>\n      <td>[11,6,9,8,12,13,3]</td>\n    </tr>\n    <tr>\n      <th>3426</th>\n      <td>ffb29a79ebd3034876cc20c3d553dda6</td>\n      <td>[2,3,4,5,6,10,11,12,9,8]</td>\n    </tr>\n    <tr>\n      <th>3427</th>\n      <td>ffc4b642af473f02057509a7cbf3d957</td>\n      <td>[3,4,2,5]</td>\n    </tr>\n    <tr>\n      <th>3428</th>\n      <td>ffe0ad398b4769d715dd73cee58591de</td>\n      <td>[5,3,6,2,8,10,11,12,4,9,14]</td>\n    </tr>\n  </tbody>\n</table>\n<p>3429 rows × 2 columns</p>\n</div>"
     },
     "metadata": {},
     "execution_count": 39
    }
   ],
   "source": [
    "test_without_duplicates"
   ]
  },
  {
   "source": [
    "buffer = {\"mac_hash\":[],\"1\":[],\"2\":[],\"3\":[],\"4\":[],\"5\":[],\"6\":[],\"7\":[],\"8\":[],\"9\":[],\"10\":[],\"11\":[],\"12\":[],\"13\":[],\"14\":[],\"15\":[]}\n",
    "test_with_15 = pd.DataFrame(buffer)\n",
    "test_with_15['mac_hash'] = test1_index"
   ],
   "cell_type": "code",
   "metadata": {},
   "execution_count": 24,
   "outputs": []
  },
  {
   "cell_type": "code",
   "execution_count": 41,
   "metadata": {},
   "outputs": [
    {
     "output_type": "execute_result",
     "data": {
      "text/plain": [
       "                              mac_hash   1   2   3   4   5   6   7   8   9  \\\n",
       "0     001befc6b70649b2c31d3bf9842c0142 NaN NaN NaN NaN NaN NaN NaN NaN NaN   \n",
       "1     006f9b3eb4ef8e6b3bbe418a230b369e NaN NaN NaN NaN NaN NaN NaN NaN NaN   \n",
       "2     00701f11a41ddfd6c7878f83547c7f31 NaN NaN NaN NaN NaN NaN NaN NaN NaN   \n",
       "3     007375f6f7da2e2ebbc9cb46a454a9d7 NaN NaN NaN NaN NaN NaN NaN NaN NaN   \n",
       "4     00764e6e16c398d287b653b0dfd9ea84 NaN NaN NaN NaN NaN NaN NaN NaN NaN   \n",
       "...                                ...  ..  ..  ..  ..  ..  ..  ..  ..  ..   \n",
       "3424  ff560b5ce15f4945d1960013fa457afe NaN NaN NaN NaN NaN NaN NaN NaN NaN   \n",
       "3425  ff79639315a87844d8f6fe9887ffce6c NaN NaN NaN NaN NaN NaN NaN NaN NaN   \n",
       "3426  ffb29a79ebd3034876cc20c3d553dda6 NaN NaN NaN NaN NaN NaN NaN NaN NaN   \n",
       "3427  ffc4b642af473f02057509a7cbf3d957 NaN NaN NaN NaN NaN NaN NaN NaN NaN   \n",
       "3428  ffe0ad398b4769d715dd73cee58591de NaN NaN NaN NaN NaN NaN NaN NaN NaN   \n",
       "\n",
       "      10  11  12  13  14  15  \n",
       "0    NaN NaN NaN NaN NaN NaN  \n",
       "1    NaN NaN NaN NaN NaN NaN  \n",
       "2    NaN NaN NaN NaN NaN NaN  \n",
       "3    NaN NaN NaN NaN NaN NaN  \n",
       "4    NaN NaN NaN NaN NaN NaN  \n",
       "...   ..  ..  ..  ..  ..  ..  \n",
       "3424 NaN NaN NaN NaN NaN NaN  \n",
       "3425 NaN NaN NaN NaN NaN NaN  \n",
       "3426 NaN NaN NaN NaN NaN NaN  \n",
       "3427 NaN NaN NaN NaN NaN NaN  \n",
       "3428 NaN NaN NaN NaN NaN NaN  \n",
       "\n",
       "[3429 rows x 16 columns]"
      ],
      "text/html": "<div>\n<style scoped>\n    .dataframe tbody tr th:only-of-type {\n        vertical-align: middle;\n    }\n\n    .dataframe tbody tr th {\n        vertical-align: top;\n    }\n\n    .dataframe thead th {\n        text-align: right;\n    }\n</style>\n<table border=\"1\" class=\"dataframe\">\n  <thead>\n    <tr style=\"text-align: right;\">\n      <th></th>\n      <th>mac_hash</th>\n      <th>1</th>\n      <th>2</th>\n      <th>3</th>\n      <th>4</th>\n      <th>5</th>\n      <th>6</th>\n      <th>7</th>\n      <th>8</th>\n      <th>9</th>\n      <th>10</th>\n      <th>11</th>\n      <th>12</th>\n      <th>13</th>\n      <th>14</th>\n      <th>15</th>\n    </tr>\n  </thead>\n  <tbody>\n    <tr>\n      <th>0</th>\n      <td>001befc6b70649b2c31d3bf9842c0142</td>\n      <td>NaN</td>\n      <td>NaN</td>\n      <td>NaN</td>\n      <td>NaN</td>\n      <td>NaN</td>\n      <td>NaN</td>\n      <td>NaN</td>\n      <td>NaN</td>\n      <td>NaN</td>\n      <td>NaN</td>\n      <td>NaN</td>\n      <td>NaN</td>\n      <td>NaN</td>\n      <td>NaN</td>\n      <td>NaN</td>\n    </tr>\n    <tr>\n      <th>1</th>\n      <td>006f9b3eb4ef8e6b3bbe418a230b369e</td>\n      <td>NaN</td>\n      <td>NaN</td>\n      <td>NaN</td>\n      <td>NaN</td>\n      <td>NaN</td>\n      <td>NaN</td>\n      <td>NaN</td>\n      <td>NaN</td>\n      <td>NaN</td>\n      <td>NaN</td>\n      <td>NaN</td>\n      <td>NaN</td>\n      <td>NaN</td>\n      <td>NaN</td>\n      <td>NaN</td>\n    </tr>\n    <tr>\n      <th>2</th>\n      <td>00701f11a41ddfd6c7878f83547c7f31</td>\n      <td>NaN</td>\n      <td>NaN</td>\n      <td>NaN</td>\n      <td>NaN</td>\n      <td>NaN</td>\n      <td>NaN</td>\n      <td>NaN</td>\n      <td>NaN</td>\n      <td>NaN</td>\n      <td>NaN</td>\n      <td>NaN</td>\n      <td>NaN</td>\n      <td>NaN</td>\n      <td>NaN</td>\n      <td>NaN</td>\n    </tr>\n    <tr>\n      <th>3</th>\n      <td>007375f6f7da2e2ebbc9cb46a454a9d7</td>\n      <td>NaN</td>\n      <td>NaN</td>\n      <td>NaN</td>\n      <td>NaN</td>\n      <td>NaN</td>\n      <td>NaN</td>\n      <td>NaN</td>\n      <td>NaN</td>\n      <td>NaN</td>\n      <td>NaN</td>\n      <td>NaN</td>\n      <td>NaN</td>\n      <td>NaN</td>\n      <td>NaN</td>\n      <td>NaN</td>\n    </tr>\n    <tr>\n      <th>4</th>\n      <td>00764e6e16c398d287b653b0dfd9ea84</td>\n      <td>NaN</td>\n      <td>NaN</td>\n      <td>NaN</td>\n      <td>NaN</td>\n      <td>NaN</td>\n      <td>NaN</td>\n      <td>NaN</td>\n      <td>NaN</td>\n      <td>NaN</td>\n      <td>NaN</td>\n      <td>NaN</td>\n      <td>NaN</td>\n      <td>NaN</td>\n      <td>NaN</td>\n      <td>NaN</td>\n    </tr>\n    <tr>\n      <th>...</th>\n      <td>...</td>\n      <td>...</td>\n      <td>...</td>\n      <td>...</td>\n      <td>...</td>\n      <td>...</td>\n      <td>...</td>\n      <td>...</td>\n      <td>...</td>\n      <td>...</td>\n      <td>...</td>\n      <td>...</td>\n      <td>...</td>\n      <td>...</td>\n      <td>...</td>\n      <td>...</td>\n    </tr>\n    <tr>\n      <th>3424</th>\n      <td>ff560b5ce15f4945d1960013fa457afe</td>\n      <td>NaN</td>\n      <td>NaN</td>\n      <td>NaN</td>\n      <td>NaN</td>\n      <td>NaN</td>\n      <td>NaN</td>\n      <td>NaN</td>\n      <td>NaN</td>\n      <td>NaN</td>\n      <td>NaN</td>\n      <td>NaN</td>\n      <td>NaN</td>\n      <td>NaN</td>\n      <td>NaN</td>\n      <td>NaN</td>\n    </tr>\n    <tr>\n      <th>3425</th>\n      <td>ff79639315a87844d8f6fe9887ffce6c</td>\n      <td>NaN</td>\n      <td>NaN</td>\n      <td>NaN</td>\n      <td>NaN</td>\n      <td>NaN</td>\n      <td>NaN</td>\n      <td>NaN</td>\n      <td>NaN</td>\n      <td>NaN</td>\n      <td>NaN</td>\n      <td>NaN</td>\n      <td>NaN</td>\n      <td>NaN</td>\n      <td>NaN</td>\n      <td>NaN</td>\n    </tr>\n    <tr>\n      <th>3426</th>\n      <td>ffb29a79ebd3034876cc20c3d553dda6</td>\n      <td>NaN</td>\n      <td>NaN</td>\n      <td>NaN</td>\n      <td>NaN</td>\n      <td>NaN</td>\n      <td>NaN</td>\n      <td>NaN</td>\n      <td>NaN</td>\n      <td>NaN</td>\n      <td>NaN</td>\n      <td>NaN</td>\n      <td>NaN</td>\n      <td>NaN</td>\n      <td>NaN</td>\n      <td>NaN</td>\n    </tr>\n    <tr>\n      <th>3427</th>\n      <td>ffc4b642af473f02057509a7cbf3d957</td>\n      <td>NaN</td>\n      <td>NaN</td>\n      <td>NaN</td>\n      <td>NaN</td>\n      <td>NaN</td>\n      <td>NaN</td>\n      <td>NaN</td>\n      <td>NaN</td>\n      <td>NaN</td>\n      <td>NaN</td>\n      <td>NaN</td>\n      <td>NaN</td>\n      <td>NaN</td>\n      <td>NaN</td>\n      <td>NaN</td>\n    </tr>\n    <tr>\n      <th>3428</th>\n      <td>ffe0ad398b4769d715dd73cee58591de</td>\n      <td>NaN</td>\n      <td>NaN</td>\n      <td>NaN</td>\n      <td>NaN</td>\n      <td>NaN</td>\n      <td>NaN</td>\n      <td>NaN</td>\n      <td>NaN</td>\n      <td>NaN</td>\n      <td>NaN</td>\n      <td>NaN</td>\n      <td>NaN</td>\n      <td>NaN</td>\n      <td>NaN</td>\n      <td>NaN</td>\n    </tr>\n  </tbody>\n</table>\n<p>3429 rows × 16 columns</p>\n</div>"
     },
     "metadata": {},
     "execution_count": 41
    }
   ],
   "source": [
    "test_with_15"
   ]
  },
  {
   "cell_type": "code",
   "execution_count": 42,
   "metadata": {},
   "outputs": [
    {
     "output_type": "execute_result",
     "data": {
      "text/plain": [
       "                              mac_hash                      sniffer_loc\n",
       "0     001befc6b70649b2c31d3bf9842c0142                              [5]\n",
       "1     006f9b3eb4ef8e6b3bbe418a230b369e                              [9]\n",
       "2     00701f11a41ddfd6c7878f83547c7f31                             [13]\n",
       "3     007375f6f7da2e2ebbc9cb46a454a9d7                           [5,14]\n",
       "4     00764e6e16c398d287b653b0dfd9ea84  [3,2,1,5,4,7,10,9,8,11,13,12,6]\n",
       "...                                ...                              ...\n",
       "3424  ff560b5ce15f4945d1960013fa457afe                        [7,2,3,4]\n",
       "3425  ff79639315a87844d8f6fe9887ffce6c               [11,6,9,8,12,13,3]\n",
       "3426  ffb29a79ebd3034876cc20c3d553dda6         [2,3,4,5,6,10,11,12,9,8]\n",
       "3427  ffc4b642af473f02057509a7cbf3d957                        [3,4,2,5]\n",
       "3428  ffe0ad398b4769d715dd73cee58591de      [5,3,6,2,8,10,11,12,4,9,14]\n",
       "\n",
       "[3429 rows x 2 columns]"
      ],
      "text/html": "<div>\n<style scoped>\n    .dataframe tbody tr th:only-of-type {\n        vertical-align: middle;\n    }\n\n    .dataframe tbody tr th {\n        vertical-align: top;\n    }\n\n    .dataframe thead th {\n        text-align: right;\n    }\n</style>\n<table border=\"1\" class=\"dataframe\">\n  <thead>\n    <tr style=\"text-align: right;\">\n      <th></th>\n      <th>mac_hash</th>\n      <th>sniffer_loc</th>\n    </tr>\n  </thead>\n  <tbody>\n    <tr>\n      <th>0</th>\n      <td>001befc6b70649b2c31d3bf9842c0142</td>\n      <td>[5]</td>\n    </tr>\n    <tr>\n      <th>1</th>\n      <td>006f9b3eb4ef8e6b3bbe418a230b369e</td>\n      <td>[9]</td>\n    </tr>\n    <tr>\n      <th>2</th>\n      <td>00701f11a41ddfd6c7878f83547c7f31</td>\n      <td>[13]</td>\n    </tr>\n    <tr>\n      <th>3</th>\n      <td>007375f6f7da2e2ebbc9cb46a454a9d7</td>\n      <td>[5,14]</td>\n    </tr>\n    <tr>\n      <th>4</th>\n      <td>00764e6e16c398d287b653b0dfd9ea84</td>\n      <td>[3,2,1,5,4,7,10,9,8,11,13,12,6]</td>\n    </tr>\n    <tr>\n      <th>...</th>\n      <td>...</td>\n      <td>...</td>\n    </tr>\n    <tr>\n      <th>3424</th>\n      <td>ff560b5ce15f4945d1960013fa457afe</td>\n      <td>[7,2,3,4]</td>\n    </tr>\n    <tr>\n      <th>3425</th>\n      <td>ff79639315a87844d8f6fe9887ffce6c</td>\n      <td>[11,6,9,8,12,13,3]</td>\n    </tr>\n    <tr>\n      <th>3426</th>\n      <td>ffb29a79ebd3034876cc20c3d553dda6</td>\n      <td>[2,3,4,5,6,10,11,12,9,8]</td>\n    </tr>\n    <tr>\n      <th>3427</th>\n      <td>ffc4b642af473f02057509a7cbf3d957</td>\n      <td>[3,4,2,5]</td>\n    </tr>\n    <tr>\n      <th>3428</th>\n      <td>ffe0ad398b4769d715dd73cee58591de</td>\n      <td>[5,3,6,2,8,10,11,12,4,9,14]</td>\n    </tr>\n  </tbody>\n</table>\n<p>3429 rows × 2 columns</p>\n</div>"
     },
     "metadata": {},
     "execution_count": 42
    }
   ],
   "source": [
    "test_without_duplicates"
   ]
  },
  {
   "cell_type": "code",
   "execution_count": 25,
   "metadata": {},
   "outputs": [],
   "source": [
    "submit_example = submit_example.drop([\"C1\",\"C2\",\"C3\",\"C4\"],axis = 1)\n",
    "submit_example.columns = ['mac_hash','sniffer_loc']"
   ]
  },
  {
   "cell_type": "code",
   "execution_count": 26,
   "metadata": {
    "tags": []
   },
   "outputs": [
    {
     "output_type": "stream",
     "name": "stderr",
     "text": [
      "<ipython-input-26-335ef5b7b3a1>:4: SettingWithCopyWarning: \nA value is trying to be set on a copy of a slice from a DataFrame\n\nSee the caveats in the documentation: https://pandas.pydata.org/pandas-docs/stable/user_guide/indexing.html#returning-a-view-versus-a-copy\n  submit_example['sniffer_loc'][y] =  test_without_duplicates['sniffer_loc'][index]\nC:\\Users\\richard\\anaconda3\\lib\\site-packages\\pandas\\core\\indexing.py:1637: SettingWithCopyWarning: \nA value is trying to be set on a copy of a slice from a DataFrame\n\nSee the caveats in the documentation: https://pandas.pydata.org/pandas-docs/stable/user_guide/indexing.html#returning-a-view-versus-a-copy\n  self._setitem_single_block(indexer, value, name)\n"
     ]
    }
   ],
   "source": [
    "y = 0\n",
    "for i in submit_example['mac_hash']:\n",
    "    index = test_without_duplicates.loc[test_without_duplicates['mac_hash'] == i].index[0]    \n",
    "    submit_example['sniffer_loc'][y] =  test_without_duplicates['sniffer_loc'][index]\n",
    "    y+=1"
   ]
  },
  {
   "cell_type": "code",
   "execution_count": 27,
   "metadata": {},
   "outputs": [],
   "source": [
    "test_without_duplicates = submit_example"
   ]
  },
  {
   "cell_type": "code",
   "execution_count": 46,
   "metadata": {},
   "outputs": [
    {
     "output_type": "execute_result",
     "data": {
      "text/plain": [
       "                              mac_hash                  sniffer_loc\n",
       "0     b882f1d44602a25349a08f4a0af32977                [5,6,13,9,12]\n",
       "1     86e644b498922f3a2fd0e6e1a1525de3  [2,4,6,3,5,8,9,12,10,11,14]\n",
       "2     691662b04ee08015062d901a4c5628b1                         [12]\n",
       "3     52b5c510a28774237f4f118764c2ed6f                      [5,3,2]\n",
       "4     9f3c995e53d109f532056b6eae29a0b5             [8,10,11,14,2,3]\n",
       "...                                ...                          ...\n",
       "3424  5001c0dfe522886ed884c0dc4e5848df                          [3]\n",
       "3425  f1c8781e701e89068fa0b8a62ecbc564     [2,4,5,9,3,6,8,11,13,12]\n",
       "3426  646136b402e136422466a2acd8636630                        [5,7]\n",
       "3427  c7bea6491029f86ab3d1f0f9b599ca2c                 [7,12,11,13]\n",
       "3428  822fd3104f38cc6374f2996d3d6920a2                          [2]\n",
       "\n",
       "[3429 rows x 2 columns]"
      ],
      "text/html": "<div>\n<style scoped>\n    .dataframe tbody tr th:only-of-type {\n        vertical-align: middle;\n    }\n\n    .dataframe tbody tr th {\n        vertical-align: top;\n    }\n\n    .dataframe thead th {\n        text-align: right;\n    }\n</style>\n<table border=\"1\" class=\"dataframe\">\n  <thead>\n    <tr style=\"text-align: right;\">\n      <th></th>\n      <th>mac_hash</th>\n      <th>sniffer_loc</th>\n    </tr>\n  </thead>\n  <tbody>\n    <tr>\n      <th>0</th>\n      <td>b882f1d44602a25349a08f4a0af32977</td>\n      <td>[5,6,13,9,12]</td>\n    </tr>\n    <tr>\n      <th>1</th>\n      <td>86e644b498922f3a2fd0e6e1a1525de3</td>\n      <td>[2,4,6,3,5,8,9,12,10,11,14]</td>\n    </tr>\n    <tr>\n      <th>2</th>\n      <td>691662b04ee08015062d901a4c5628b1</td>\n      <td>[12]</td>\n    </tr>\n    <tr>\n      <th>3</th>\n      <td>52b5c510a28774237f4f118764c2ed6f</td>\n      <td>[5,3,2]</td>\n    </tr>\n    <tr>\n      <th>4</th>\n      <td>9f3c995e53d109f532056b6eae29a0b5</td>\n      <td>[8,10,11,14,2,3]</td>\n    </tr>\n    <tr>\n      <th>...</th>\n      <td>...</td>\n      <td>...</td>\n    </tr>\n    <tr>\n      <th>3424</th>\n      <td>5001c0dfe522886ed884c0dc4e5848df</td>\n      <td>[3]</td>\n    </tr>\n    <tr>\n      <th>3425</th>\n      <td>f1c8781e701e89068fa0b8a62ecbc564</td>\n      <td>[2,4,5,9,3,6,8,11,13,12]</td>\n    </tr>\n    <tr>\n      <th>3426</th>\n      <td>646136b402e136422466a2acd8636630</td>\n      <td>[5,7]</td>\n    </tr>\n    <tr>\n      <th>3427</th>\n      <td>c7bea6491029f86ab3d1f0f9b599ca2c</td>\n      <td>[7,12,11,13]</td>\n    </tr>\n    <tr>\n      <th>3428</th>\n      <td>822fd3104f38cc6374f2996d3d6920a2</td>\n      <td>[2]</td>\n    </tr>\n  </tbody>\n</table>\n<p>3429 rows × 2 columns</p>\n</div>"
     },
     "metadata": {},
     "execution_count": 46
    }
   ],
   "source": [
    "test_without_duplicates"
   ]
  },
  {
   "cell_type": "code",
   "execution_count": 28,
   "metadata": {},
   "outputs": [
    {
     "output_type": "stream",
     "name": "stderr",
     "text": [
      "<ipython-input-28-f7a9cb3918eb>:6: SettingWithCopyWarning: \nA value is trying to be set on a copy of a slice from a DataFrame\n\nSee the caveats in the documentation: https://pandas.pydata.org/pandas-docs/stable/user_guide/indexing.html#returning-a-view-versus-a-copy\n  test_with_15[pos][y] = int(buffer[i])\n"
     ]
    }
   ],
   "source": [
    "y = 0\n",
    "for j in test_without_duplicates['sniffer_loc']: \n",
    "    buffer = j[0].split(',')    \n",
    "    for i in range(len(buffer)):        \n",
    "        pos = str(i+1)\n",
    "        test_with_15[pos][y] = int(buffer[i])\n",
    "    y+=1"
   ]
  },
  {
   "cell_type": "code",
   "execution_count": 29,
   "metadata": {},
   "outputs": [],
   "source": [
    "test_with_15 = test_with_15.fillna(0)"
   ]
  },
  {
   "cell_type": "code",
   "execution_count": 49,
   "metadata": {},
   "outputs": [
    {
     "output_type": "execute_result",
     "data": {
      "text/plain": [
       "                              mac_hash     1     2     3     4     5    6  \\\n",
       "0     001befc6b70649b2c31d3bf9842c0142   5.0   6.0  13.0   9.0  12.0  0.0   \n",
       "1     006f9b3eb4ef8e6b3bbe418a230b369e   2.0   4.0   6.0   3.0   5.0  8.0   \n",
       "2     00701f11a41ddfd6c7878f83547c7f31  12.0   0.0   0.0   0.0   0.0  0.0   \n",
       "3     007375f6f7da2e2ebbc9cb46a454a9d7   5.0   3.0   2.0   0.0   0.0  0.0   \n",
       "4     00764e6e16c398d287b653b0dfd9ea84   8.0  10.0  11.0  14.0   2.0  3.0   \n",
       "...                                ...   ...   ...   ...   ...   ...  ...   \n",
       "3424  ff560b5ce15f4945d1960013fa457afe   3.0   0.0   0.0   0.0   0.0  0.0   \n",
       "3425  ff79639315a87844d8f6fe9887ffce6c   2.0   4.0   5.0   9.0   3.0  6.0   \n",
       "3426  ffb29a79ebd3034876cc20c3d553dda6   5.0   7.0   0.0   0.0   0.0  0.0   \n",
       "3427  ffc4b642af473f02057509a7cbf3d957   7.0  12.0  11.0  13.0   0.0  0.0   \n",
       "3428  ffe0ad398b4769d715dd73cee58591de   2.0   0.0   0.0   0.0   0.0  0.0   \n",
       "\n",
       "        7     8     9    10    11   12   13   14   15  \n",
       "0     0.0   0.0   0.0   0.0   0.0  0.0  0.0  0.0  0.0  \n",
       "1     9.0  12.0  10.0  11.0  14.0  0.0  0.0  0.0  0.0  \n",
       "2     0.0   0.0   0.0   0.0   0.0  0.0  0.0  0.0  0.0  \n",
       "3     0.0   0.0   0.0   0.0   0.0  0.0  0.0  0.0  0.0  \n",
       "4     0.0   0.0   0.0   0.0   0.0  0.0  0.0  0.0  0.0  \n",
       "...   ...   ...   ...   ...   ...  ...  ...  ...  ...  \n",
       "3424  0.0   0.0   0.0   0.0   0.0  0.0  0.0  0.0  0.0  \n",
       "3425  8.0  11.0  13.0  12.0   0.0  0.0  0.0  0.0  0.0  \n",
       "3426  0.0   0.0   0.0   0.0   0.0  0.0  0.0  0.0  0.0  \n",
       "3427  0.0   0.0   0.0   0.0   0.0  0.0  0.0  0.0  0.0  \n",
       "3428  0.0   0.0   0.0   0.0   0.0  0.0  0.0  0.0  0.0  \n",
       "\n",
       "[3429 rows x 16 columns]"
      ],
      "text/html": "<div>\n<style scoped>\n    .dataframe tbody tr th:only-of-type {\n        vertical-align: middle;\n    }\n\n    .dataframe tbody tr th {\n        vertical-align: top;\n    }\n\n    .dataframe thead th {\n        text-align: right;\n    }\n</style>\n<table border=\"1\" class=\"dataframe\">\n  <thead>\n    <tr style=\"text-align: right;\">\n      <th></th>\n      <th>mac_hash</th>\n      <th>1</th>\n      <th>2</th>\n      <th>3</th>\n      <th>4</th>\n      <th>5</th>\n      <th>6</th>\n      <th>7</th>\n      <th>8</th>\n      <th>9</th>\n      <th>10</th>\n      <th>11</th>\n      <th>12</th>\n      <th>13</th>\n      <th>14</th>\n      <th>15</th>\n    </tr>\n  </thead>\n  <tbody>\n    <tr>\n      <th>0</th>\n      <td>001befc6b70649b2c31d3bf9842c0142</td>\n      <td>5.0</td>\n      <td>6.0</td>\n      <td>13.0</td>\n      <td>9.0</td>\n      <td>12.0</td>\n      <td>0.0</td>\n      <td>0.0</td>\n      <td>0.0</td>\n      <td>0.0</td>\n      <td>0.0</td>\n      <td>0.0</td>\n      <td>0.0</td>\n      <td>0.0</td>\n      <td>0.0</td>\n      <td>0.0</td>\n    </tr>\n    <tr>\n      <th>1</th>\n      <td>006f9b3eb4ef8e6b3bbe418a230b369e</td>\n      <td>2.0</td>\n      <td>4.0</td>\n      <td>6.0</td>\n      <td>3.0</td>\n      <td>5.0</td>\n      <td>8.0</td>\n      <td>9.0</td>\n      <td>12.0</td>\n      <td>10.0</td>\n      <td>11.0</td>\n      <td>14.0</td>\n      <td>0.0</td>\n      <td>0.0</td>\n      <td>0.0</td>\n      <td>0.0</td>\n    </tr>\n    <tr>\n      <th>2</th>\n      <td>00701f11a41ddfd6c7878f83547c7f31</td>\n      <td>12.0</td>\n      <td>0.0</td>\n      <td>0.0</td>\n      <td>0.0</td>\n      <td>0.0</td>\n      <td>0.0</td>\n      <td>0.0</td>\n      <td>0.0</td>\n      <td>0.0</td>\n      <td>0.0</td>\n      <td>0.0</td>\n      <td>0.0</td>\n      <td>0.0</td>\n      <td>0.0</td>\n      <td>0.0</td>\n    </tr>\n    <tr>\n      <th>3</th>\n      <td>007375f6f7da2e2ebbc9cb46a454a9d7</td>\n      <td>5.0</td>\n      <td>3.0</td>\n      <td>2.0</td>\n      <td>0.0</td>\n      <td>0.0</td>\n      <td>0.0</td>\n      <td>0.0</td>\n      <td>0.0</td>\n      <td>0.0</td>\n      <td>0.0</td>\n      <td>0.0</td>\n      <td>0.0</td>\n      <td>0.0</td>\n      <td>0.0</td>\n      <td>0.0</td>\n    </tr>\n    <tr>\n      <th>4</th>\n      <td>00764e6e16c398d287b653b0dfd9ea84</td>\n      <td>8.0</td>\n      <td>10.0</td>\n      <td>11.0</td>\n      <td>14.0</td>\n      <td>2.0</td>\n      <td>3.0</td>\n      <td>0.0</td>\n      <td>0.0</td>\n      <td>0.0</td>\n      <td>0.0</td>\n      <td>0.0</td>\n      <td>0.0</td>\n      <td>0.0</td>\n      <td>0.0</td>\n      <td>0.0</td>\n    </tr>\n    <tr>\n      <th>...</th>\n      <td>...</td>\n      <td>...</td>\n      <td>...</td>\n      <td>...</td>\n      <td>...</td>\n      <td>...</td>\n      <td>...</td>\n      <td>...</td>\n      <td>...</td>\n      <td>...</td>\n      <td>...</td>\n      <td>...</td>\n      <td>...</td>\n      <td>...</td>\n      <td>...</td>\n      <td>...</td>\n    </tr>\n    <tr>\n      <th>3424</th>\n      <td>ff560b5ce15f4945d1960013fa457afe</td>\n      <td>3.0</td>\n      <td>0.0</td>\n      <td>0.0</td>\n      <td>0.0</td>\n      <td>0.0</td>\n      <td>0.0</td>\n      <td>0.0</td>\n      <td>0.0</td>\n      <td>0.0</td>\n      <td>0.0</td>\n      <td>0.0</td>\n      <td>0.0</td>\n      <td>0.0</td>\n      <td>0.0</td>\n      <td>0.0</td>\n    </tr>\n    <tr>\n      <th>3425</th>\n      <td>ff79639315a87844d8f6fe9887ffce6c</td>\n      <td>2.0</td>\n      <td>4.0</td>\n      <td>5.0</td>\n      <td>9.0</td>\n      <td>3.0</td>\n      <td>6.0</td>\n      <td>8.0</td>\n      <td>11.0</td>\n      <td>13.0</td>\n      <td>12.0</td>\n      <td>0.0</td>\n      <td>0.0</td>\n      <td>0.0</td>\n      <td>0.0</td>\n      <td>0.0</td>\n    </tr>\n    <tr>\n      <th>3426</th>\n      <td>ffb29a79ebd3034876cc20c3d553dda6</td>\n      <td>5.0</td>\n      <td>7.0</td>\n      <td>0.0</td>\n      <td>0.0</td>\n      <td>0.0</td>\n      <td>0.0</td>\n      <td>0.0</td>\n      <td>0.0</td>\n      <td>0.0</td>\n      <td>0.0</td>\n      <td>0.0</td>\n      <td>0.0</td>\n      <td>0.0</td>\n      <td>0.0</td>\n      <td>0.0</td>\n    </tr>\n    <tr>\n      <th>3427</th>\n      <td>ffc4b642af473f02057509a7cbf3d957</td>\n      <td>7.0</td>\n      <td>12.0</td>\n      <td>11.0</td>\n      <td>13.0</td>\n      <td>0.0</td>\n      <td>0.0</td>\n      <td>0.0</td>\n      <td>0.0</td>\n      <td>0.0</td>\n      <td>0.0</td>\n      <td>0.0</td>\n      <td>0.0</td>\n      <td>0.0</td>\n      <td>0.0</td>\n      <td>0.0</td>\n    </tr>\n    <tr>\n      <th>3428</th>\n      <td>ffe0ad398b4769d715dd73cee58591de</td>\n      <td>2.0</td>\n      <td>0.0</td>\n      <td>0.0</td>\n      <td>0.0</td>\n      <td>0.0</td>\n      <td>0.0</td>\n      <td>0.0</td>\n      <td>0.0</td>\n      <td>0.0</td>\n      <td>0.0</td>\n      <td>0.0</td>\n      <td>0.0</td>\n      <td>0.0</td>\n      <td>0.0</td>\n      <td>0.0</td>\n    </tr>\n  </tbody>\n</table>\n<p>3429 rows × 16 columns</p>\n</div>"
     },
     "metadata": {},
     "execution_count": 49
    }
   ],
   "source": [
    "test_with_15"
   ]
  },
  {
   "cell_type": "code",
   "execution_count": 50,
   "metadata": {},
   "outputs": [
    {
     "output_type": "execute_result",
     "data": {
      "text/plain": [
       "                              mac_hash                  sniffer_loc\n",
       "0     b882f1d44602a25349a08f4a0af32977                [5,6,13,9,12]\n",
       "1     86e644b498922f3a2fd0e6e1a1525de3  [2,4,6,3,5,8,9,12,10,11,14]\n",
       "2     691662b04ee08015062d901a4c5628b1                         [12]\n",
       "3     52b5c510a28774237f4f118764c2ed6f                      [5,3,2]\n",
       "4     9f3c995e53d109f532056b6eae29a0b5             [8,10,11,14,2,3]\n",
       "...                                ...                          ...\n",
       "3424  5001c0dfe522886ed884c0dc4e5848df                          [3]\n",
       "3425  f1c8781e701e89068fa0b8a62ecbc564     [2,4,5,9,3,6,8,11,13,12]\n",
       "3426  646136b402e136422466a2acd8636630                        [5,7]\n",
       "3427  c7bea6491029f86ab3d1f0f9b599ca2c                 [7,12,11,13]\n",
       "3428  822fd3104f38cc6374f2996d3d6920a2                          [2]\n",
       "\n",
       "[3429 rows x 2 columns]"
      ],
      "text/html": "<div>\n<style scoped>\n    .dataframe tbody tr th:only-of-type {\n        vertical-align: middle;\n    }\n\n    .dataframe tbody tr th {\n        vertical-align: top;\n    }\n\n    .dataframe thead th {\n        text-align: right;\n    }\n</style>\n<table border=\"1\" class=\"dataframe\">\n  <thead>\n    <tr style=\"text-align: right;\">\n      <th></th>\n      <th>mac_hash</th>\n      <th>sniffer_loc</th>\n    </tr>\n  </thead>\n  <tbody>\n    <tr>\n      <th>0</th>\n      <td>b882f1d44602a25349a08f4a0af32977</td>\n      <td>[5,6,13,9,12]</td>\n    </tr>\n    <tr>\n      <th>1</th>\n      <td>86e644b498922f3a2fd0e6e1a1525de3</td>\n      <td>[2,4,6,3,5,8,9,12,10,11,14]</td>\n    </tr>\n    <tr>\n      <th>2</th>\n      <td>691662b04ee08015062d901a4c5628b1</td>\n      <td>[12]</td>\n    </tr>\n    <tr>\n      <th>3</th>\n      <td>52b5c510a28774237f4f118764c2ed6f</td>\n      <td>[5,3,2]</td>\n    </tr>\n    <tr>\n      <th>4</th>\n      <td>9f3c995e53d109f532056b6eae29a0b5</td>\n      <td>[8,10,11,14,2,3]</td>\n    </tr>\n    <tr>\n      <th>...</th>\n      <td>...</td>\n      <td>...</td>\n    </tr>\n    <tr>\n      <th>3424</th>\n      <td>5001c0dfe522886ed884c0dc4e5848df</td>\n      <td>[3]</td>\n    </tr>\n    <tr>\n      <th>3425</th>\n      <td>f1c8781e701e89068fa0b8a62ecbc564</td>\n      <td>[2,4,5,9,3,6,8,11,13,12]</td>\n    </tr>\n    <tr>\n      <th>3426</th>\n      <td>646136b402e136422466a2acd8636630</td>\n      <td>[5,7]</td>\n    </tr>\n    <tr>\n      <th>3427</th>\n      <td>c7bea6491029f86ab3d1f0f9b599ca2c</td>\n      <td>[7,12,11,13]</td>\n    </tr>\n    <tr>\n      <th>3428</th>\n      <td>822fd3104f38cc6374f2996d3d6920a2</td>\n      <td>[2]</td>\n    </tr>\n  </tbody>\n</table>\n<p>3429 rows × 2 columns</p>\n</div>"
     },
     "metadata": {},
     "execution_count": 50
    }
   ],
   "source": [
    "test_without_duplicates"
   ]
  },
  {
   "cell_type": "code",
   "execution_count": 51,
   "metadata": {},
   "outputs": [
    {
     "output_type": "execute_result",
     "data": {
      "text/plain": [
       "                              mac_hash                         sniffer_loc  \\\n",
       "0     0003ae8541d0e925fcee242287e2ad27                                [11]   \n",
       "1     00078611037990f7f36b722f22595fe7                 [3,2,4,8,6,10,11,5]   \n",
       "2     000ce31739b333d931813de403156844  [6,8,13,10,11,3,2,7,5,9,1,4,12,14]   \n",
       "3     0027240b2aeb1f7f3c053c073cafb452      [10,12,13,14,9,7,8,4,2,5,6,11]   \n",
       "4     0028a89964416dc9a8a66cc7fe25ef4e          [10,4,3,2,6,9,12,13,11,14]   \n",
       "...                                ...                                 ...   \n",
       "6954  ffca215be2cb1505d931bd162da60104              [3,5,2,6,4,12,13,10,8]   \n",
       "6955  ffcaf0f29c6bede7b5cd9bc807c31715                         [3,2,4,7,5]   \n",
       "6956  ffd0c4403c3c44dcbe4772821b032252    [6,5,4,2,9,11,8,10,12,13,3,7,14]   \n",
       "6957  ffd7be58ee3c3fb47530ae7e4f251f88                                 [5]   \n",
       "6958  fff2ca0333532d6348d5b4fa39028dd4                   [10,3,13,12,11,9]   \n",
       "\n",
       "      label  \n",
       "0         0  \n",
       "1         1  \n",
       "2         3  \n",
       "3         4  \n",
       "4         4  \n",
       "...     ...  \n",
       "6954      4  \n",
       "6955      1  \n",
       "6956      4  \n",
       "6957      0  \n",
       "6958      2  \n",
       "\n",
       "[6959 rows x 3 columns]"
      ],
      "text/html": "<div>\n<style scoped>\n    .dataframe tbody tr th:only-of-type {\n        vertical-align: middle;\n    }\n\n    .dataframe tbody tr th {\n        vertical-align: top;\n    }\n\n    .dataframe thead th {\n        text-align: right;\n    }\n</style>\n<table border=\"1\" class=\"dataframe\">\n  <thead>\n    <tr style=\"text-align: right;\">\n      <th></th>\n      <th>mac_hash</th>\n      <th>sniffer_loc</th>\n      <th>label</th>\n    </tr>\n  </thead>\n  <tbody>\n    <tr>\n      <th>0</th>\n      <td>0003ae8541d0e925fcee242287e2ad27</td>\n      <td>[11]</td>\n      <td>0</td>\n    </tr>\n    <tr>\n      <th>1</th>\n      <td>00078611037990f7f36b722f22595fe7</td>\n      <td>[3,2,4,8,6,10,11,5]</td>\n      <td>1</td>\n    </tr>\n    <tr>\n      <th>2</th>\n      <td>000ce31739b333d931813de403156844</td>\n      <td>[6,8,13,10,11,3,2,7,5,9,1,4,12,14]</td>\n      <td>3</td>\n    </tr>\n    <tr>\n      <th>3</th>\n      <td>0027240b2aeb1f7f3c053c073cafb452</td>\n      <td>[10,12,13,14,9,7,8,4,2,5,6,11]</td>\n      <td>4</td>\n    </tr>\n    <tr>\n      <th>4</th>\n      <td>0028a89964416dc9a8a66cc7fe25ef4e</td>\n      <td>[10,4,3,2,6,9,12,13,11,14]</td>\n      <td>4</td>\n    </tr>\n    <tr>\n      <th>...</th>\n      <td>...</td>\n      <td>...</td>\n      <td>...</td>\n    </tr>\n    <tr>\n      <th>6954</th>\n      <td>ffca215be2cb1505d931bd162da60104</td>\n      <td>[3,5,2,6,4,12,13,10,8]</td>\n      <td>4</td>\n    </tr>\n    <tr>\n      <th>6955</th>\n      <td>ffcaf0f29c6bede7b5cd9bc807c31715</td>\n      <td>[3,2,4,7,5]</td>\n      <td>1</td>\n    </tr>\n    <tr>\n      <th>6956</th>\n      <td>ffd0c4403c3c44dcbe4772821b032252</td>\n      <td>[6,5,4,2,9,11,8,10,12,13,3,7,14]</td>\n      <td>4</td>\n    </tr>\n    <tr>\n      <th>6957</th>\n      <td>ffd7be58ee3c3fb47530ae7e4f251f88</td>\n      <td>[5]</td>\n      <td>0</td>\n    </tr>\n    <tr>\n      <th>6958</th>\n      <td>fff2ca0333532d6348d5b4fa39028dd4</td>\n      <td>[10,3,13,12,11,9]</td>\n      <td>2</td>\n    </tr>\n  </tbody>\n</table>\n<p>6959 rows × 3 columns</p>\n</div>"
     },
     "metadata": {},
     "execution_count": 51
    }
   ],
   "source": [
    "df_without_duplicates"
   ]
  },
  {
   "cell_type": "code",
   "execution_count": 52,
   "metadata": {},
   "outputs": [
    {
     "output_type": "execute_result",
     "data": {
      "text/plain": [
       "                              mac_hash                  sniffer_loc\n",
       "0     b882f1d44602a25349a08f4a0af32977                [5,6,13,9,12]\n",
       "1     86e644b498922f3a2fd0e6e1a1525de3  [2,4,6,3,5,8,9,12,10,11,14]\n",
       "2     691662b04ee08015062d901a4c5628b1                         [12]\n",
       "3     52b5c510a28774237f4f118764c2ed6f                      [5,3,2]\n",
       "4     9f3c995e53d109f532056b6eae29a0b5             [8,10,11,14,2,3]\n",
       "...                                ...                          ...\n",
       "3424  5001c0dfe522886ed884c0dc4e5848df                          [3]\n",
       "3425  f1c8781e701e89068fa0b8a62ecbc564     [2,4,5,9,3,6,8,11,13,12]\n",
       "3426  646136b402e136422466a2acd8636630                        [5,7]\n",
       "3427  c7bea6491029f86ab3d1f0f9b599ca2c                 [7,12,11,13]\n",
       "3428  822fd3104f38cc6374f2996d3d6920a2                          [2]\n",
       "\n",
       "[3429 rows x 2 columns]"
      ],
      "text/html": "<div>\n<style scoped>\n    .dataframe tbody tr th:only-of-type {\n        vertical-align: middle;\n    }\n\n    .dataframe tbody tr th {\n        vertical-align: top;\n    }\n\n    .dataframe thead th {\n        text-align: right;\n    }\n</style>\n<table border=\"1\" class=\"dataframe\">\n  <thead>\n    <tr style=\"text-align: right;\">\n      <th></th>\n      <th>mac_hash</th>\n      <th>sniffer_loc</th>\n    </tr>\n  </thead>\n  <tbody>\n    <tr>\n      <th>0</th>\n      <td>b882f1d44602a25349a08f4a0af32977</td>\n      <td>[5,6,13,9,12]</td>\n    </tr>\n    <tr>\n      <th>1</th>\n      <td>86e644b498922f3a2fd0e6e1a1525de3</td>\n      <td>[2,4,6,3,5,8,9,12,10,11,14]</td>\n    </tr>\n    <tr>\n      <th>2</th>\n      <td>691662b04ee08015062d901a4c5628b1</td>\n      <td>[12]</td>\n    </tr>\n    <tr>\n      <th>3</th>\n      <td>52b5c510a28774237f4f118764c2ed6f</td>\n      <td>[5,3,2]</td>\n    </tr>\n    <tr>\n      <th>4</th>\n      <td>9f3c995e53d109f532056b6eae29a0b5</td>\n      <td>[8,10,11,14,2,3]</td>\n    </tr>\n    <tr>\n      <th>...</th>\n      <td>...</td>\n      <td>...</td>\n    </tr>\n    <tr>\n      <th>3424</th>\n      <td>5001c0dfe522886ed884c0dc4e5848df</td>\n      <td>[3]</td>\n    </tr>\n    <tr>\n      <th>3425</th>\n      <td>f1c8781e701e89068fa0b8a62ecbc564</td>\n      <td>[2,4,5,9,3,6,8,11,13,12]</td>\n    </tr>\n    <tr>\n      <th>3426</th>\n      <td>646136b402e136422466a2acd8636630</td>\n      <td>[5,7]</td>\n    </tr>\n    <tr>\n      <th>3427</th>\n      <td>c7bea6491029f86ab3d1f0f9b599ca2c</td>\n      <td>[7,12,11,13]</td>\n    </tr>\n    <tr>\n      <th>3428</th>\n      <td>822fd3104f38cc6374f2996d3d6920a2</td>\n      <td>[2]</td>\n    </tr>\n  </tbody>\n</table>\n<p>3429 rows × 2 columns</p>\n</div>"
     },
     "metadata": {},
     "execution_count": 52
    }
   ],
   "source": [
    "submit_example"
   ]
  },
  {
   "cell_type": "code",
   "execution_count": 47,
   "metadata": {},
   "outputs": [],
   "source": [
    "from xgboost import XGBClassifier\n",
    "import xgboost as xgb"
   ]
  },
  {
   "cell_type": "code",
   "execution_count": 29,
   "metadata": {},
   "outputs": [],
   "source": [
    "x = data_with_15\n",
    "x = x.drop([\"mac_hash\"],axis = 1)\n",
    "y = df_without_duplicates['label']"
   ]
  },
  {
   "cell_type": "code",
   "execution_count": 125,
   "metadata": {},
   "outputs": [],
   "source": [
    "from sklearn.model_selection import GridSearchCV\n",
    "from sklearn.metrics import log_loss, make_scorer"
   ]
  },
  {
   "source": [
    "xgboost Hyperparameter"
   ],
   "cell_type": "markdown",
   "metadata": {}
  },
  {
   "cell_type": "code",
   "execution_count": 168,
   "metadata": {},
   "outputs": [
    {
     "output_type": "stream",
     "name": "stdout",
     "text": [
      "Fitting 20 folds for each of 1 candidates, totalling 20 fits\n",
      "C:\\Users\\richard\\anaconda3\\lib\\site-packages\\xgboost\\sklearn.py:1146: UserWarning: The use of label encoder in XGBClassifier is deprecated and will be removed in a future release. To remove this warning, do the following: 1) Pass option use_label_encoder=False when constructing XGBClassifier object; and 2) Encode your labels (y) as integers starting with 0, i.e. 0, 1, 2, ..., [num_class - 1].\n",
      "  warnings.warn(label_encoder_deprecation_msg, UserWarning)\n",
      "每轮迭代运行结果:{'mean_fit_time': array([5.22661037]), 'std_fit_time': array([0.19963125]), 'mean_score_time': array([0.00620561]), 'std_score_time': array([0.00060046]), 'params': [{}], 'split0_test_score': array([-0.06420154]), 'split1_test_score': array([-0.1290149]), 'split2_test_score': array([-0.07981894]), 'split3_test_score': array([-0.06517098]), 'split4_test_score': array([-0.0652214]), 'split5_test_score': array([-0.10819342]), 'split6_test_score': array([-0.08204453]), 'split7_test_score': array([-0.07375777]), 'split8_test_score': array([-0.08250679]), 'split9_test_score': array([-0.04767598]), 'split10_test_score': array([-0.09083264]), 'split11_test_score': array([-0.08588844]), 'split12_test_score': array([-0.08162544]), 'split13_test_score': array([-0.0571852]), 'split14_test_score': array([-0.10847335]), 'split15_test_score': array([-0.09135294]), 'split16_test_score': array([-0.07711582]), 'split17_test_score': array([-0.05534216]), 'split18_test_score': array([-0.0760933]), 'split19_test_score': array([-0.07458867]), 'mean_test_score': array([-0.07980521]), 'std_test_score': array([0.01904527]), 'rank_test_score': array([1])}\n",
      "参数的最佳取值：{}\n",
      "最佳模型得分:-0.07980521027627425\n"
     ]
    }
   ],
   "source": [
    "cv_params = {}\n",
    "other_params = {'learning_rate': 0.25, 'n_estimators': 940, 'max_depth': 2, 'min_child_weight': 1, 'seed': 0,\n",
    "                    'subsample': 0.7, 'colsample_bytree': 0.2, 'gamma': 0.1, 'reg_alpha': 0.05, 'reg_lambda': 1,'objective':'multi:softprob','eval_metric':'mlogloss','gpu_id':0,'base_score':0.2,'max_delta_step':0.3,'tree_method':'approx'}\n",
    "original_parms = {'learning_rate': 0.300000012, 'n_estimators': 100, 'max_depth': 6, 'min_child_weight': 1, 'seed': 0,\n",
    "                    'subsample': 1, 'colsample_bytree':1, 'gamma': 0, 'reg_alpha': 0, 'reg_lambda': 1,'objective':'multi:softmax','eval_metric':'logloss','gpu_id':0,'tree_method':'exact'}\n",
    "\n",
    "model = xgb.XGBClassifier(**other_params)\n",
    "LogLoss = make_scorer(log_loss, greater_is_better=False, needs_proba=True)\n",
    "optimized_GBM = GridSearchCV(estimator=model, param_grid=cv_params, scoring=LogLoss, cv=20, verbose=1, n_jobs=4)\n",
    "optimized_GBM.fit(x, y)\n",
    "evalute_result = optimized_GBM.cv_results_\n",
    "print('每轮迭代运行结果:{0}'.format(evalute_result))\n",
    "print('参数的最佳取值：{0}'.format(optimized_GBM.best_params_))\n",
    "print('最佳模型得分:{0}'.format(optimized_GBM.best_score_))"
   ]
  },
  {
   "cell_type": "code",
   "execution_count": 219,
   "metadata": {},
   "outputs": [],
   "source": [
    "#fc = xgb.XGBClassifier(objective='multi:softprob',eval_metric='logloss',gpu_id=0)\r\n",
    "fc = xgb.XGBClassifier(objective='multi:softprob',eval_metric='mlogloss',gpu_id=0, learning_rate = 0.25, n_estimators=940,max_depth =2,min_child_weight =1,subsample=0.7,colsample_bytree=0.2,gamma=0.1,reg_alpha=0.05,reg_lambda=1,base_score=0.2,max_delta_step=0.3,tree_method='approx')"
   ]
  },
  {
   "cell_type": "code",
   "execution_count": 220,
   "metadata": {},
   "outputs": [
    {
     "output_type": "stream",
     "name": "stderr",
     "text": [
      "C:\\Users\\richard\\anaconda3\\lib\\site-packages\\xgboost\\sklearn.py:1146: UserWarning: The use of label encoder in XGBClassifier is deprecated and will be removed in a future release. To remove this warning, do the following: 1) Pass option use_label_encoder=False when constructing XGBClassifier object; and 2) Encode your labels (y) as integers starting with 0, i.e. 0, 1, 2, ..., [num_class - 1].\n  warnings.warn(label_encoder_deprecation_msg, UserWarning)\n"
     ]
    },
    {
     "output_type": "execute_result",
     "data": {
      "text/plain": [
       "XGBClassifier(base_score=0.2, booster='gbtree', colsample_bylevel=1,\n",
       "              colsample_bynode=1, colsample_bytree=0.2, eval_metric='logloss',\n",
       "              gamma=0.1, gpu_id=0, importance_type='gain',\n",
       "              interaction_constraints='', learning_rate=0.25,\n",
       "              max_delta_step=0.3, max_depth=2, min_child_weight=1, missing=nan,\n",
       "              monotone_constraints='()', n_estimators=940, n_jobs=16,\n",
       "              num_parallel_tree=1, objective='multi:softprob', random_state=0,\n",
       "              reg_alpha=0.05, reg_lambda=1, scale_pos_weight=None,\n",
       "              subsample=0.7, tree_method='approx', validate_parameters=1,\n",
       "              verbosity=None)"
      ]
     },
     "metadata": {},
     "execution_count": 220
    }
   ],
   "source": [
    "fc.fit(x,y)"
   ]
  },
  {
   "cell_type": "code",
   "execution_count": 31,
   "metadata": {},
   "outputs": [],
   "source": [
    "test = test_with_15.drop([\"mac_hash\"],axis = 1)"
   ]
  },
  {
   "cell_type": "code",
   "execution_count": 221,
   "metadata": {},
   "outputs": [],
   "source": [
    "result = fc.predict_proba(test)"
   ]
  },
  {
   "cell_type": "code",
   "execution_count": 175,
   "metadata": {},
   "outputs": [],
   "source": [
    "np.set_printoptions(suppress=True)"
   ]
  },
  {
   "cell_type": "code",
   "execution_count": 212,
   "metadata": {},
   "outputs": [
    {
     "output_type": "execute_result",
     "data": {
      "text/plain": [
       "array([0.00000002, 0.00000257, 0.00000001, 0.00622748, 0.99376994],\n",
       "      dtype=float32)"
      ]
     },
     "metadata": {},
     "execution_count": 212
    }
   ],
   "source": [
    "result[1]"
   ]
  },
  {
   "cell_type": "code",
   "execution_count": 213,
   "metadata": {},
   "outputs": [
    {
     "output_type": "execute_result",
     "data": {
      "text/plain": [
       "3429"
      ]
     },
     "metadata": {},
     "execution_count": 213
    }
   ],
   "source": [
    "len(result)"
   ]
  },
  {
   "cell_type": "code",
   "execution_count": 222,
   "metadata": {},
   "outputs": [],
   "source": [
    "data ={\"mac_hash\":[],\"C0\":[],\"C1\":[],\"C2\":[],\"C3\":[],\"C4\":[]}\n",
    "submit = pd.DataFrame(data)"
   ]
  },
  {
   "cell_type": "code",
   "execution_count": 223,
   "metadata": {},
   "outputs": [],
   "source": [
    "submit['mac_hash'] = submit_example['mac_hash']"
   ]
  },
  {
   "cell_type": "code",
   "execution_count": 224,
   "metadata": {},
   "outputs": [
    {
     "output_type": "stream",
     "name": "stderr",
     "text": [
      "<ipython-input-224-6890f48a4d3d>:2: SettingWithCopyWarning: \nA value is trying to be set on a copy of a slice from a DataFrame\n\nSee the caveats in the documentation: https://pandas.pydata.org/pandas-docs/stable/user_guide/indexing.html#returning-a-view-versus-a-copy\n  submit[\"C0\"][i] = result[i][0]\n<ipython-input-224-6890f48a4d3d>:3: SettingWithCopyWarning: \nA value is trying to be set on a copy of a slice from a DataFrame\n\nSee the caveats in the documentation: https://pandas.pydata.org/pandas-docs/stable/user_guide/indexing.html#returning-a-view-versus-a-copy\n  submit[\"C1\"][i] = result[i][1]\n<ipython-input-224-6890f48a4d3d>:4: SettingWithCopyWarning: \nA value is trying to be set on a copy of a slice from a DataFrame\n\nSee the caveats in the documentation: https://pandas.pydata.org/pandas-docs/stable/user_guide/indexing.html#returning-a-view-versus-a-copy\n  submit[\"C2\"][i] = result[i][2]\n<ipython-input-224-6890f48a4d3d>:5: SettingWithCopyWarning: \nA value is trying to be set on a copy of a slice from a DataFrame\n\nSee the caveats in the documentation: https://pandas.pydata.org/pandas-docs/stable/user_guide/indexing.html#returning-a-view-versus-a-copy\n  submit[\"C3\"][i] = result[i][3]\n<ipython-input-224-6890f48a4d3d>:6: SettingWithCopyWarning: \nA value is trying to be set on a copy of a slice from a DataFrame\n\nSee the caveats in the documentation: https://pandas.pydata.org/pandas-docs/stable/user_guide/indexing.html#returning-a-view-versus-a-copy\n  submit[\"C4\"][i] = result[i][4]\n"
     ]
    }
   ],
   "source": [
    "for i in range(len(submit['mac_hash'])):    \n",
    "    submit[\"C0\"][i] = result[i][0]\n",
    "    submit[\"C1\"][i] = result[i][1]\n",
    "    submit[\"C2\"][i] = result[i][2]\n",
    "    submit[\"C3\"][i] = result[i][3]\n",
    "    submit[\"C4\"][i] = result[i][4]\n",
    "        "
   ]
  },
  {
   "cell_type": "code",
   "execution_count": 62,
   "metadata": {},
   "outputs": [],
   "source": [
    "pd.set_option('display.float_format',lambda x : '%.20f' % x)"
   ]
  },
  {
   "cell_type": "code",
   "execution_count": 225,
   "metadata": {},
   "outputs": [],
   "source": [
    "submit = submit.set_index(\"mac_hash\")"
   ]
  },
  {
   "cell_type": "code",
   "execution_count": 226,
   "metadata": {},
   "outputs": [],
   "source": [
    "submit.to_csv(\"submit_logloss.csv\", float_format='%f')"
   ]
  },
  {
   "cell_type": "code",
   "execution_count": 35,
   "metadata": {},
   "outputs": [],
   "source": [
    "from  catboost import CatBoostClassifier, Pool, cv"
   ]
  },
  {
   "cell_type": "code",
   "execution_count": 36,
   "metadata": {},
   "outputs": [],
   "source": [
    "cat = CatBoostClassifier(loss_function='MultiClass',task_type=\"GPU\", learning_rate=0.01)"
   ]
  },
  {
   "cell_type": "code",
   "execution_count": 37,
   "metadata": {},
   "outputs": [
    {
     "output_type": "display_data",
     "data": {
      "text/plain": "MetricVisualizer(layout=Layout(align_self='stretch', height='500px'))",
      "application/vnd.jupyter.widget-view+json": {
       "version_major": 2,
       "version_minor": 0,
       "model_id": "c19ed238e2fe415bab41c1310355bb2e"
      }
     },
     "metadata": {}
    }
   ],
   "source": [
    "cat.fit(x,y,verbose=False,plot=True)"
   ]
  },
  {
   "cell_type": "code",
   "execution_count": 255,
   "metadata": {},
   "outputs": [
    {
     "output_type": "execute_result",
     "data": {
      "text/plain": [
       "array([0.00000247, 0.00001505, 0.00000284, 0.01587778, 0.98410186])"
      ]
     },
     "metadata": {},
     "execution_count": 255
    }
   ],
   "source": [
    "cat_result = cat.predict_proba(test)"
   ]
  }
 ]
}